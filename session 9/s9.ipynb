{
 "cells": [
  {
   "cell_type": "code",
   "execution_count": 3,
   "id": "79056274",
   "metadata": {},
   "outputs": [],
   "source": [
    "import statistics\n",
    "import math \n",
    "import scipy.stats\n",
    "import numpy as np\n",
    "import pandas as pd"
   ]
  },
  {
   "cell_type": "code",
   "execution_count": 8,
   "id": "cab68ae6",
   "metadata": {},
   "outputs": [],
   "source": [
    "x = [8,1,2.5,4,28]\n",
    "x_with_nan = [2,6,7,9.,8,7, np.nan]"
   ]
  },
  {
   "cell_type": "markdown",
   "id": "f85dc6e8",
   "metadata": {},
   "source": [
    "### Mean"
   ]
  },
  {
   "cell_type": "code",
   "execution_count": 26,
   "id": "80eeb3af",
   "metadata": {},
   "outputs": [
    {
     "data": {
      "text/plain": [
       "8.7"
      ]
     },
     "execution_count": 26,
     "metadata": {},
     "output_type": "execute_result"
    }
   ],
   "source": [
    "np.sum(x)/len(x)"
   ]
  },
  {
   "cell_type": "code",
   "execution_count": 27,
   "id": "6a3d40d4",
   "metadata": {},
   "outputs": [
    {
     "data": {
      "text/plain": [
       "8.7"
      ]
     },
     "execution_count": 27,
     "metadata": {},
     "output_type": "execute_result"
    }
   ],
   "source": [
    "np.mean(x)"
   ]
  },
  {
   "cell_type": "code",
   "execution_count": 28,
   "id": "2fae6194",
   "metadata": {},
   "outputs": [
    {
     "data": {
      "text/plain": [
       "nan"
      ]
     },
     "execution_count": 28,
     "metadata": {},
     "output_type": "execute_result"
    }
   ],
   "source": [
    "np.mean(x_with_nan)"
   ]
  },
  {
   "cell_type": "code",
   "execution_count": 29,
   "id": "512e2a7a",
   "metadata": {},
   "outputs": [
    {
     "data": {
      "text/plain": [
       "6.5"
      ]
     },
     "execution_count": 29,
     "metadata": {},
     "output_type": "execute_result"
    }
   ],
   "source": [
    "np.nanmean(x_with_nan)"
   ]
  },
  {
   "cell_type": "code",
   "execution_count": 30,
   "id": "0bcb2742",
   "metadata": {},
   "outputs": [
    {
     "data": {
      "text/plain": [
       "8.7"
      ]
     },
     "execution_count": 30,
     "metadata": {},
     "output_type": "execute_result"
    }
   ],
   "source": [
    "y.mean()"
   ]
  },
  {
   "cell_type": "markdown",
   "id": "41619084",
   "metadata": {},
   "source": [
    "#### weighted mean"
   ]
  },
  {
   "cell_type": "code",
   "execution_count": 53,
   "id": "d60fdad1",
   "metadata": {},
   "outputs": [],
   "source": [
    "x = [8,1,2.5,4,28]\n",
    "y = np.array(x)\n",
    "w = [0.1,0.2,0.3,0.25,0.15]"
   ]
  },
  {
   "cell_type": "code",
   "execution_count": 22,
   "id": "dda7d863",
   "metadata": {},
   "outputs": [
    {
     "data": {
      "text/plain": [
       "6.95"
      ]
     },
     "execution_count": 22,
     "metadata": {},
     "output_type": "execute_result"
    }
   ],
   "source": [
    "np.sum([x[ix] * w[ix] for ix, item in enumerate(x)])/np.sum(w)"
   ]
  },
  {
   "cell_type": "code",
   "execution_count": 23,
   "id": "30981134",
   "metadata": {},
   "outputs": [
    {
     "data": {
      "text/plain": [
       "6.95"
      ]
     },
     "execution_count": 23,
     "metadata": {},
     "output_type": "execute_result"
    }
   ],
   "source": [
    "np.sum(y*w) / np.sum(w)"
   ]
  },
  {
   "cell_type": "markdown",
   "id": "2082952b",
   "metadata": {},
   "source": [
    "#### harmonic mean\n",
    "\n",
    "saya punya 3 pompa air untuk mengisi kolam renang.\n",
    "- pompa A : 4 jam untuk mengisi 1 kolam\n",
    "- pompa B : 6 jam untuk mengisi 1 kolam\n",
    "- pompa C : 3 jam untuk mengisi 1 kolam\n",
    "\n",
    "Kalau saya menggunakan 3 pompa sekaligus, berapa jam yang dibutuhkan untuk mengisi 1 kolam renang"
   ]
  },
  {
   "cell_type": "code",
   "execution_count": 31,
   "id": "92e3755a",
   "metadata": {},
   "outputs": [
    {
     "data": {
      "text/plain": [
       "4.0"
      ]
     },
     "execution_count": 31,
     "metadata": {},
     "output_type": "execute_result"
    }
   ],
   "source": [
    "3/((1/4)+(1/6)+1/3)"
   ]
  },
  {
   "cell_type": "code",
   "execution_count": 32,
   "id": "9f9d6773",
   "metadata": {},
   "outputs": [
    {
     "data": {
      "text/plain": [
       "1.3333333333333333"
      ]
     },
     "execution_count": 32,
     "metadata": {},
     "output_type": "execute_result"
    }
   ],
   "source": [
    "4/3"
   ]
  },
  {
   "cell_type": "markdown",
   "id": "4b80c55b",
   "metadata": {},
   "source": [
    "pompa A : 1/4 porsi kolam dalam 1 jam<br>\n",
    "pompa B : 1/6 porsi kolam dalam 1 jam<br>\n",
    "pompa C : 1/3 porsi kolam dalam 1 jam<br>\n",
    "<br>\n",
    "6/24 + 4/24 + 8/24 = 18/24 = 0.75"
   ]
  },
  {
   "cell_type": "code",
   "execution_count": null,
   "id": "f73ce14b",
   "metadata": {},
   "outputs": [],
   "source": [
    "1/x = 0.75/1"
   ]
  },
  {
   "cell_type": "code",
   "execution_count": 34,
   "id": "2c877520",
   "metadata": {},
   "outputs": [],
   "source": [
    "x = 1/0.75"
   ]
  },
  {
   "cell_type": "code",
   "execution_count": 35,
   "id": "2efa1e13",
   "metadata": {},
   "outputs": [
    {
     "data": {
      "text/plain": [
       "1.3333333333333333"
      ]
     },
     "execution_count": 35,
     "metadata": {},
     "output_type": "execute_result"
    }
   ],
   "source": [
    "x"
   ]
  },
  {
   "cell_type": "markdown",
   "id": "6d13d731",
   "metadata": {},
   "source": [
    "#### geometric mean"
   ]
  },
  {
   "cell_type": "code",
   "execution_count": null,
   "id": "18812a43",
   "metadata": {},
   "outputs": [],
   "source": [
    "(x11 * ... * xn)** (1/n)"
   ]
  },
  {
   "cell_type": "code",
   "execution_count": null,
   "id": "56286845",
   "metadata": {},
   "outputs": [],
   "source": [
    "aset Coca Cola pada Tahun 2018 = 1000\n",
    "2019 berkembang 20%\n",
    "2020 berkembang -30%\n",
    "2021 berkembang 10%"
   ]
  },
  {
   "cell_type": "code",
   "execution_count": 36,
   "id": "353712e7",
   "metadata": {},
   "outputs": [
    {
     "data": {
      "text/plain": [
       "0.9739963373377919"
      ]
     },
     "execution_count": 36,
     "metadata": {},
     "output_type": "execute_result"
    }
   ],
   "source": [
    "math.pow((1.2 * 0.7 * 1.1),(1/3))"
   ]
  },
  {
   "cell_type": "code",
   "execution_count": null,
   "id": "ef488ef8",
   "metadata": {},
   "outputs": [],
   "source": [
    "-0.03%"
   ]
  },
  {
   "cell_type": "code",
   "execution_count": null,
   "id": "e0b41a66",
   "metadata": {},
   "outputs": [],
   "source": [
    "2019 = 1200\n",
    "2020 = 840\n",
    "2021 = 924"
   ]
  },
  {
   "cell_type": "code",
   "execution_count": 38,
   "id": "6cb0d6d6",
   "metadata": {},
   "outputs": [
    {
     "data": {
      "text/plain": [
       "1200.0"
      ]
     },
     "execution_count": 38,
     "metadata": {},
     "output_type": "execute_result"
    }
   ],
   "source": [
    "1000 * 1.2"
   ]
  },
  {
   "cell_type": "code",
   "execution_count": 40,
   "id": "c1ed00a4",
   "metadata": {},
   "outputs": [
    {
     "data": {
      "text/plain": [
       "840.0"
      ]
     },
     "execution_count": 40,
     "metadata": {},
     "output_type": "execute_result"
    }
   ],
   "source": [
    "1200 * 0.7"
   ]
  },
  {
   "cell_type": "code",
   "execution_count": 41,
   "id": "ce5eabfa",
   "metadata": {},
   "outputs": [
    {
     "data": {
      "text/plain": [
       "924.0000000000001"
      ]
     },
     "execution_count": 41,
     "metadata": {},
     "output_type": "execute_result"
    }
   ],
   "source": [
    "840 * 1.1"
   ]
  },
  {
   "cell_type": "code",
   "execution_count": 43,
   "id": "2dcb6dc7",
   "metadata": {},
   "outputs": [
    {
     "data": {
      "text/plain": [
       "0.07599999999999996"
      ]
     },
     "execution_count": 43,
     "metadata": {},
     "output_type": "execute_result"
    }
   ],
   "source": [
    "1-0.924"
   ]
  },
  {
   "cell_type": "code",
   "execution_count": 44,
   "id": "359fe0ec",
   "metadata": {},
   "outputs": [
    {
     "data": {
      "text/plain": [
       "0.02533333333333332"
      ]
     },
     "execution_count": 44,
     "metadata": {},
     "output_type": "execute_result"
    }
   ],
   "source": [
    "0.07599999999999996/3"
   ]
  },
  {
   "cell_type": "code",
   "execution_count": 45,
   "id": "75109f68",
   "metadata": {},
   "outputs": [
    {
     "data": {
      "text/plain": [
       "0.9993296706711252"
      ]
     },
     "execution_count": 45,
     "metadata": {},
     "output_type": "execute_result"
    }
   ],
   "source": [
    "0.9739963373377919 + 0.02533333333333332"
   ]
  },
  {
   "cell_type": "markdown",
   "id": "52018468",
   "metadata": {},
   "source": [
    "### Median"
   ]
  },
  {
   "cell_type": "code",
   "execution_count": 46,
   "id": "923b4f18",
   "metadata": {},
   "outputs": [
    {
     "data": {
      "text/plain": [
       "1.3333333333333333"
      ]
     },
     "execution_count": 46,
     "metadata": {},
     "output_type": "execute_result"
    }
   ],
   "source": [
    "x"
   ]
  },
  {
   "cell_type": "code",
   "execution_count": 59,
   "id": "7404d9af",
   "metadata": {},
   "outputs": [
    {
     "data": {
      "text/plain": [
       "4.0"
      ]
     },
     "execution_count": 59,
     "metadata": {},
     "output_type": "execute_result"
    }
   ],
   "source": [
    "np.median(x)"
   ]
  },
  {
   "cell_type": "code",
   "execution_count": 57,
   "id": "eaa240b6",
   "metadata": {},
   "outputs": [
    {
     "data": {
      "text/plain": [
       "3.25"
      ]
     },
     "execution_count": 57,
     "metadata": {},
     "output_type": "execute_result"
    }
   ],
   "source": [
    "statistics.median(x[:-1])"
   ]
  },
  {
   "cell_type": "code",
   "execution_count": 56,
   "id": "ae4fda6b",
   "metadata": {},
   "outputs": [
    {
     "data": {
      "text/plain": [
       "2.5"
      ]
     },
     "execution_count": 56,
     "metadata": {},
     "output_type": "execute_result"
    }
   ],
   "source": [
    "statistics.median_low(x[:-1])"
   ]
  },
  {
   "cell_type": "code",
   "execution_count": 58,
   "id": "b664d4de",
   "metadata": {},
   "outputs": [
    {
     "data": {
      "text/plain": [
       "4"
      ]
     },
     "execution_count": 58,
     "metadata": {},
     "output_type": "execute_result"
    }
   ],
   "source": [
    "statistics.median_high(x[:-1])"
   ]
  },
  {
   "cell_type": "markdown",
   "id": "59f8b009",
   "metadata": {},
   "source": [
    "### Percentile"
   ]
  },
  {
   "cell_type": "code",
   "execution_count": 60,
   "id": "a6bed7a4",
   "metadata": {},
   "outputs": [
    {
     "data": {
      "text/plain": [
       "[8, 1, 2.5, 4, 28]"
      ]
     },
     "execution_count": 60,
     "metadata": {},
     "output_type": "execute_result"
    }
   ],
   "source": [
    "x"
   ]
  },
  {
   "cell_type": "code",
   "execution_count": 61,
   "id": "262b84a4",
   "metadata": {},
   "outputs": [
    {
     "data": {
      "text/plain": [
       "2.5"
      ]
     },
     "execution_count": 61,
     "metadata": {},
     "output_type": "execute_result"
    }
   ],
   "source": [
    "np.percentile(x,25)"
   ]
  },
  {
   "cell_type": "code",
   "execution_count": 62,
   "id": "7a92a89a",
   "metadata": {},
   "outputs": [
    {
     "data": {
      "text/plain": [
       "4.0"
      ]
     },
     "execution_count": 62,
     "metadata": {},
     "output_type": "execute_result"
    }
   ],
   "source": [
    "np.percentile(x,50)"
   ]
  },
  {
   "cell_type": "code",
   "execution_count": 63,
   "id": "94020b7d",
   "metadata": {},
   "outputs": [
    {
     "data": {
      "text/plain": [
       "8.0"
      ]
     },
     "execution_count": 63,
     "metadata": {},
     "output_type": "execute_result"
    }
   ],
   "source": [
    "np.percentile(x,75)"
   ]
  },
  {
   "cell_type": "markdown",
   "id": "5016b0ce",
   "metadata": {},
   "source": [
    "### Box Plot"
   ]
  },
  {
   "cell_type": "code",
   "execution_count": 66,
   "id": "1d4e8fc8",
   "metadata": {},
   "outputs": [],
   "source": [
    "np.random.seed(seed=12)"
   ]
  },
  {
   "cell_type": "code",
   "execution_count": 67,
   "id": "5ca2f53b",
   "metadata": {},
   "outputs": [],
   "source": [
    "x = np.random.randn(1000)\n",
    "y = np.random.randn(100)\n",
    "z = np.random.randn(10)"
   ]
  },
  {
   "cell_type": "code",
   "execution_count": 68,
   "id": "5821980a",
   "metadata": {},
   "outputs": [],
   "source": [
    "import matplotlib.pyplot as plt"
   ]
  },
  {
   "cell_type": "code",
   "execution_count": 72,
   "id": "d35d9a27",
   "metadata": {},
   "outputs": [
    {
     "data": {
      "image/png": "[encoded data removed]",
      "text/plain": [
       "<Figure size 432x288 with 1 Axes>"
      ]
     },
     "metadata": {
      "needs_background": "light"
     },
     "output_type": "display_data"
    }
   ],
   "source": [
    "fig, ax = plt.subplots()\n",
    "ax.boxplot((x,y,z), vert=False, showmeans=True, meanline=True, labels=('x','y','z'), patch_artist=True, meanprops={'linewidth':2, 'color': 'red'}, medianprops={'linewidth':2, 'color': 'purple'})\n",
    "plt.show()"
   ]
  },
  {
   "cell_type": "markdown",
   "id": "b711ee50",
   "metadata": {},
   "source": [
    "### Heatmaps"
   ]
  },
  {
   "cell_type": "code",
   "execution_count": 74,
   "id": "fff1cc3d",
   "metadata": {},
   "outputs": [],
   "source": [
    "cov = np.cov(x[:100],y).round(decimals=2)"
   ]
  },
  {
   "cell_type": "code",
   "execution_count": 81,
   "id": "01a777b6",
   "metadata": {},
   "outputs": [
    {
     "data": {
      "image/png": "[encoded data removed]",
      "text/plain": [
       "<Figure size 432x288 with 1 Axes>"
      ]
     },
     "metadata": {
      "needs_background": "light"
     },
     "output_type": "display_data"
    }
   ],
   "source": [
    "fig, ax = plt.subplots()\n",
    "ax.imshow(cov)\n",
    "ax.grid(False)\n",
    "ax.xaxis.set(ticks=(0,1),ticklabels=('x','y'))\n",
    "ax.yaxis.set(ticks=(0,1),ticklabels=('x','y'))\n",
    "ax.set_ylim(1.5,-0.5)\n",
    "for i in range(2):\n",
    "    for j in range(2):\n",
    "        ax.text(j,i,cov[i,j], ha='center', va='center', color='w')\n",
    "plt.show()"
   ]
  },
  {
   "cell_type": "code",
   "execution_count": null,
   "id": "6006da86",
   "metadata": {},
   "outputs": [],
   "source": []
  }
 ],
 "metadata": {
  "kernelspec": {
   "display_name": "Python 3",
   "language": "python",
   "name": "python3"
  },
  "language_info": {
   "codemirror_mode": {
    "name": "ipython",
    "version": 3
   },
   "file_extension": ".py",
   "mimetype": "text/x-python",
   "name": "python",
   "nbconvert_exporter": "python",
   "pygments_lexer": "ipython3",
   "version": "3.8.8"
  },
  "toc": {
   "base_numbering": 1,
   "nav_menu": {},
   "number_sections": true,
   "sideBar": true,
   "skip_h1_title": false,
   "title_cell": "Table of Contents",
   "title_sidebar": "Contents",
   "toc_cell": false,
   "toc_position": {},
   "toc_section_display": true,
   "toc_window_display": false
  }
 },
 "nbformat": 4,
 "nbformat_minor": 5
}

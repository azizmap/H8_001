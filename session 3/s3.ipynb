{
 "cells": [
  {
   "cell_type": "markdown",
   "id": "0de6d7aa",
   "metadata": {},
   "source": [
    "# Session 3"
   ]
  },
  {
   "cell_type": "code",
   "execution_count": 15,
   "id": "709bbef0",
   "metadata": {},
   "outputs": [],
   "source": [
    "import math"
   ]
  },
  {
   "cell_type": "code",
   "execution_count": 16,
   "id": "8e22b58a",
   "metadata": {},
   "outputs": [],
   "source": [
    "def jumlah (a,b):\n",
    "    \"\"\"\n",
    "        fungsi untuk menjumlahkan dua nilai\n",
    "        \n",
    "        parameters\n",
    "        ----------\n",
    "            a: variable 1\n",
    "            b: variable 1\n",
    "        \n",
    "        returns\n",
    "        ----------\n",
    "            summed valued\n",
    "    \"\"\"\n",
    "    \n",
    "    return a + b"
   ]
  },
  {
   "cell_type": "code",
   "execution_count": 17,
   "id": "93762ae9",
   "metadata": {},
   "outputs": [
    {
     "data": {
      "text/plain": [
       "10"
      ]
     },
     "execution_count": 17,
     "metadata": {},
     "output_type": "execute_result"
    }
   ],
   "source": [
    "jumlah(2,8)"
   ]
  },
  {
   "cell_type": "code",
   "execution_count": 18,
   "id": "373f8b72",
   "metadata": {},
   "outputs": [],
   "source": [
    "def jumlah (a: int, b: int) -> int:\n",
    "    \"\"\"\n",
    "        fungsi untuk menjumlahkan dua nilai\n",
    "        \n",
    "        parameters\n",
    "        ----------\n",
    "            a: variable 1\n",
    "            b: variable 1\n",
    "        \n",
    "        returns\n",
    "        ----------\n",
    "            summed valued\n",
    "    \"\"\"\n",
    "    \n",
    "    return a + b"
   ]
  },
  {
   "cell_type": "code",
   "execution_count": 19,
   "id": "778cd3f9",
   "metadata": {},
   "outputs": [
    {
     "data": {
      "text/plain": [
       "18"
      ]
     },
     "execution_count": 19,
     "metadata": {},
     "output_type": "execute_result"
    }
   ],
   "source": [
    "jumlah(11,7)"
   ]
  },
  {
   "cell_type": "markdown",
   "id": "5db9b8cf",
   "metadata": {},
   "source": [
    "### python is pass by refrenced"
   ]
  },
  {
   "cell_type": "code",
   "execution_count": 23,
   "id": "8c45129c",
   "metadata": {},
   "outputs": [
    {
     "name": "stdout",
     "output_type": "stream",
     "text": [
      "Values inside the function:  [10, 20, 30, [1, 2, 3, 4]]\n",
      "Values outside the function:  [10, 20, 30, [1, 2, 3, 4]]\n"
     ]
    }
   ],
   "source": [
    "def changeme( mylist ):\n",
    "    \"This changes a passed list into this function\"\n",
    "    mylist.append([1,2,3,4])\n",
    "    print(\"Values inside the function: \", mylist)\n",
    "    return\n",
    "\n",
    "mylist = [10,20,30]\n",
    "changeme( mylist )\n",
    "print(\"Values outside the function: \", mylist)"
   ]
  },
  {
   "cell_type": "markdown",
   "id": "6ac40b82",
   "metadata": {},
   "source": [
    "## function argument"
   ]
  },
  {
   "cell_type": "markdown",
   "id": "98181757",
   "metadata": {},
   "source": [
    "### required arguments"
   ]
  },
  {
   "cell_type": "code",
   "execution_count": 28,
   "id": "705b1a9a",
   "metadata": {},
   "outputs": [
    {
     "ename": "TypeError",
     "evalue": "printme() missing 1 required positional argument: 'str'",
     "output_type": "error",
     "traceback": [
      "\u001b[1;31m---------------------------------------------------------------------------\u001b[0m",
      "\u001b[1;31mTypeError\u001b[0m                                 Traceback (most recent call last)",
      "\u001b[1;32m<ipython-input-28-4bbc81d2e43c>\u001b[0m in \u001b[0;36m<module>\u001b[1;34m\u001b[0m\n\u001b[0;32m      4\u001b[0m     \u001b[1;32mreturn\u001b[0m\u001b[1;33m\u001b[0m\u001b[1;33m\u001b[0m\u001b[0m\n\u001b[0;32m      5\u001b[0m \u001b[1;33m\u001b[0m\u001b[0m\n\u001b[1;32m----> 6\u001b[1;33m \u001b[0mprintme\u001b[0m\u001b[1;33m(\u001b[0m\u001b[1;33m)\u001b[0m\u001b[1;33m\u001b[0m\u001b[1;33m\u001b[0m\u001b[0m\n\u001b[0m",
      "\u001b[1;31mTypeError\u001b[0m: printme() missing 1 required positional argument: 'str'"
     ]
    }
   ],
   "source": [
    "def printme( str ):\n",
    "    \"This prints a passed string into this function\"\n",
    "    print(str)\n",
    "    return\n",
    "\n",
    "printme()"
   ]
  },
  {
   "cell_type": "code",
   "execution_count": 29,
   "id": "126d1cfe",
   "metadata": {},
   "outputs": [
    {
     "name": "stdout",
     "output_type": "stream",
     "text": [
      "abc\n"
     ]
    }
   ],
   "source": [
    "def printme( str ):\n",
    "    \"This prints a passed string into this function\"\n",
    "    print(str)\n",
    "    return\n",
    "\n",
    "printme('abc')"
   ]
  },
  {
   "cell_type": "markdown",
   "id": "11c8106e",
   "metadata": {},
   "source": [
    "### keyword arguments"
   ]
  },
  {
   "cell_type": "code",
   "execution_count": 30,
   "id": "41c17697",
   "metadata": {},
   "outputs": [
    {
     "name": "stdout",
     "output_type": "stream",
     "text": [
      "print saya\n"
     ]
    }
   ],
   "source": [
    "printme(str=\"print saya\")"
   ]
  },
  {
   "cell_type": "code",
   "execution_count": 31,
   "id": "a6514cfe",
   "metadata": {},
   "outputs": [],
   "source": [
    "def pembelian(baju, meja):\n",
    "    \"This prints a passed string into this function\"\n",
    "    print(f\"Baju: {baju}, Meja: {meja}\")\n",
    "    return"
   ]
  },
  {
   "cell_type": "code",
   "execution_count": 32,
   "id": "fed3026b",
   "metadata": {},
   "outputs": [
    {
     "name": "stdout",
     "output_type": "stream",
     "text": [
      "Baju: uniqlo, Meja: ikea\n"
     ]
    }
   ],
   "source": [
    "pembelian(baju='uniqlo', meja='ikea')"
   ]
  },
  {
   "cell_type": "markdown",
   "id": "27d1f5fd",
   "metadata": {},
   "source": [
    "### default arguments"
   ]
  },
  {
   "cell_type": "code",
   "execution_count": 35,
   "id": "6886f81a",
   "metadata": {},
   "outputs": [
    {
     "name": "stdout",
     "output_type": "stream",
     "text": [
      "Name:  Aziz\n",
      "age:  26\n",
      "\n",
      "\n",
      "Name:  Aziz\n",
      "age:  21\n"
     ]
    }
   ],
   "source": [
    "def printinfo(name, age = 26):\n",
    "    \"This prints a passed string into this function\"\n",
    "    print(\"Name: \",name)\n",
    "    print(\"age: \",age)\n",
    "    return\n",
    "\n",
    "printinfo(\"Aziz\")\n",
    "print(\"\\n\")\n",
    "printinfo(\"Aziz\", 21)"
   ]
  },
  {
   "cell_type": "markdown",
   "id": "8a6f23fe",
   "metadata": {},
   "source": [
    "### variable length arguments"
   ]
  },
  {
   "cell_type": "code",
   "execution_count": 36,
   "id": "07018836",
   "metadata": {},
   "outputs": [
    {
     "name": "stdout",
     "output_type": "stream",
     "text": [
      "Output is: \n",
      "10\n",
      "Output is: \n",
      "70\n",
      "80\n",
      "50\n",
      "a\n"
     ]
    }
   ],
   "source": [
    "def printinfo(argl, *vartuple):\n",
    "    \"This prints a passed string into this function\"\n",
    "    print(\"Output is: \")\n",
    "    print(argl)\n",
    "    for var in vartuple:\n",
    "        print(var)\n",
    "    return\n",
    "\n",
    "printinfo(10)\n",
    "printinfo(70,80,50, \"a\")"
   ]
  },
  {
   "cell_type": "code",
   "execution_count": 41,
   "id": "de18a2e3",
   "metadata": {},
   "outputs": [
    {
     "name": "stdout",
     "output_type": "stream",
     "text": [
      "Output is: \n",
      "70\n",
      "80\n",
      "50\n",
      "3\n"
     ]
    }
   ],
   "source": [
    "def printinfo(arg, *args, **kwargs):\n",
    "    \"This prints a passed string into this function\"\n",
    "    print(\"Output is: \")\n",
    "    print(arg)\n",
    "    for var in args:\n",
    "        print(var)\n",
    "    print(kwargs['c'])\n",
    "    return\n",
    "\n",
    "printinfo(70,80,50, b=2,c=3)"
   ]
  },
  {
   "cell_type": "markdown",
   "id": "96f04edc",
   "metadata": {},
   "source": [
    "## anonymous function"
   ]
  },
  {
   "cell_type": "code",
   "execution_count": 43,
   "id": "3b298939",
   "metadata": {},
   "outputs": [],
   "source": [
    "sum = lambda x,y: x + y"
   ]
  },
  {
   "cell_type": "code",
   "execution_count": 44,
   "id": "875406fd",
   "metadata": {},
   "outputs": [
    {
     "data": {
      "text/plain": [
       "3"
      ]
     },
     "execution_count": 44,
     "metadata": {},
     "output_type": "execute_result"
    }
   ],
   "source": [
    "sum(1,2)"
   ]
  },
  {
   "cell_type": "code",
   "execution_count": 46,
   "id": "0d178a57",
   "metadata": {},
   "outputs": [
    {
     "data": {
      "text/plain": [
       "15"
      ]
     },
     "execution_count": 46,
     "metadata": {},
     "output_type": "execute_result"
    }
   ],
   "source": [
    "def sum2(x,y):\n",
    "    return x+y\n",
    "\n",
    "sum2(10,5)"
   ]
  },
  {
   "cell_type": "code",
   "execution_count": 47,
   "id": "ab036bb1",
   "metadata": {},
   "outputs": [
    {
     "data": {
      "text/plain": [
       "True"
      ]
     },
     "execution_count": 47,
     "metadata": {},
     "output_type": "execute_result"
    }
   ],
   "source": [
    "j = lambda x: True if x < 1 else False\n",
    "j(0)"
   ]
  },
  {
   "cell_type": "markdown",
   "id": "00532723",
   "metadata": {},
   "source": [
    "## return statement"
   ]
  },
  {
   "cell_type": "code",
   "execution_count": 52,
   "id": "dc0e085d",
   "metadata": {},
   "outputs": [],
   "source": [
    "def cari(x, l):\n",
    "    for element in l:\n",
    "        if x == element:\n",
    "            print('found')\n",
    "            return\n",
    "    print('not found')"
   ]
  },
  {
   "cell_type": "code",
   "execution_count": 53,
   "id": "c585f4a5",
   "metadata": {},
   "outputs": [
    {
     "name": "stdout",
     "output_type": "stream",
     "text": [
      "found\n"
     ]
    }
   ],
   "source": [
    "l = [6,2,4,7,2]\n",
    "cari(2,l)"
   ]
  },
  {
   "cell_type": "code",
   "execution_count": 54,
   "id": "b8cd5055",
   "metadata": {},
   "outputs": [
    {
     "data": {
      "text/plain": [
       "15"
      ]
     },
     "execution_count": 54,
     "metadata": {},
     "output_type": "execute_result"
    }
   ],
   "source": [
    "def summ(x,y):\n",
    "    return x+y\n",
    "\n",
    "summ(10,5)"
   ]
  },
  {
   "cell_type": "markdown",
   "id": "37ee9538",
   "metadata": {},
   "source": [
    "## scope"
   ]
  },
  {
   "cell_type": "code",
   "execution_count": 58,
   "id": "d8d05d98",
   "metadata": {},
   "outputs": [
    {
     "name": "stdout",
     "output_type": "stream",
     "text": [
      "local total :  13\n",
      "global total 18\n"
     ]
    }
   ],
   "source": [
    "total = 0\n",
    "\n",
    "def sum(arg1, arg2):\n",
    "    total = arg1 + arg2\n",
    "    total2 = total + arg2\n",
    "    print('local total : ',total)\n",
    "    return total2\n",
    "\n",
    "total = sum(8,5)\n",
    "print('global total', total)"
   ]
  },
  {
   "cell_type": "markdown",
   "id": "9841c59e",
   "metadata": {},
   "source": [
    "## Module"
   ]
  },
  {
   "cell_type": "code",
   "execution_count": 67,
   "id": "cb2617db",
   "metadata": {},
   "outputs": [],
   "source": [
    "import mod"
   ]
  },
  {
   "cell_type": "code",
   "execution_count": 68,
   "id": "2a457109",
   "metadata": {},
   "outputs": [
    {
     "name": "stdout",
     "output_type": "stream",
     "text": [
      "Hacktiv8-PTP Python for Data Science\n"
     ]
    }
   ],
   "source": [
    "print(mod.s)"
   ]
  },
  {
   "cell_type": "code",
   "execution_count": 66,
   "id": "8d9ec052",
   "metadata": {},
   "outputs": [
    {
     "name": "stdout",
     "output_type": "stream",
     "text": [
      "arg = ['modul', 'keren']\n"
     ]
    }
   ],
   "source": [
    "mod.foo([\"modul\", \"keren\"])"
   ]
  },
  {
   "cell_type": "code",
   "execution_count": 69,
   "id": "a2eeefbc",
   "metadata": {},
   "outputs": [],
   "source": [
    "import sys"
   ]
  },
  {
   "cell_type": "code",
   "execution_count": 70,
   "id": "d65766de",
   "metadata": {},
   "outputs": [
    {
     "data": {
      "text/plain": [
       "['C:\\\\Users\\\\62852\\\\Documents\\\\magang - Hacktiv8\\\\pertemuan\\\\session 3',\n",
       " 'C:\\\\Users\\\\62852\\\\anaconda3\\\\python38.zip',\n",
       " 'C:\\\\Users\\\\62852\\\\anaconda3\\\\DLLs',\n",
       " 'C:\\\\Users\\\\62852\\\\anaconda3\\\\lib',\n",
       " 'C:\\\\Users\\\\62852\\\\anaconda3',\n",
       " '',\n",
       " 'C:\\\\Users\\\\62852\\\\anaconda3\\\\lib\\\\site-packages',\n",
       " 'C:\\\\Users\\\\62852\\\\anaconda3\\\\lib\\\\site-packages\\\\locket-0.2.1-py3.8.egg',\n",
       " 'C:\\\\Users\\\\62852\\\\anaconda3\\\\lib\\\\site-packages\\\\win32',\n",
       " 'C:\\\\Users\\\\62852\\\\anaconda3\\\\lib\\\\site-packages\\\\win32\\\\lib',\n",
       " 'C:\\\\Users\\\\62852\\\\anaconda3\\\\lib\\\\site-packages\\\\Pythonwin',\n",
       " 'C:\\\\Users\\\\62852\\\\anaconda3\\\\lib\\\\site-packages\\\\IPython\\\\extensions',\n",
       " 'C:\\\\Users\\\\62852\\\\.ipython']"
      ]
     },
     "execution_count": 70,
     "metadata": {},
     "output_type": "execute_result"
    }
   ],
   "source": [
    "sys.path"
   ]
  },
  {
   "cell_type": "code",
   "execution_count": 71,
   "id": "1f617af9",
   "metadata": {},
   "outputs": [],
   "source": [
    "from mod import a,s,foo"
   ]
  },
  {
   "cell_type": "code",
   "execution_count": 72,
   "id": "511144d9",
   "metadata": {
    "scrolled": true
   },
   "outputs": [
    {
     "data": {
      "text/plain": [
       "[100, 200, 300]"
      ]
     },
     "execution_count": 72,
     "metadata": {},
     "output_type": "execute_result"
    }
   ],
   "source": [
    "a"
   ]
  },
  {
   "cell_type": "code",
   "execution_count": 73,
   "id": "60992bda",
   "metadata": {},
   "outputs": [
    {
     "data": {
      "text/plain": [
       "'Hacktiv8-PTP Python for Data Science'"
      ]
     },
     "execution_count": 73,
     "metadata": {},
     "output_type": "execute_result"
    }
   ],
   "source": [
    "s"
   ]
  },
  {
   "cell_type": "code",
   "execution_count": 76,
   "id": "a776adc5",
   "metadata": {},
   "outputs": [],
   "source": [
    "import pandas as pd, numpy as np"
   ]
  },
  {
   "cell_type": "code",
   "execution_count": 77,
   "id": "c6c9b125",
   "metadata": {},
   "outputs": [
    {
     "data": {
      "text/plain": [
       "3.141592653589793"
      ]
     },
     "execution_count": 77,
     "metadata": {},
     "output_type": "execute_result"
    }
   ],
   "source": [
    "np.pi"
   ]
  },
  {
   "cell_type": "code",
   "execution_count": 78,
   "id": "1d063098",
   "metadata": {},
   "outputs": [
    {
     "data": {
      "text/plain": [
       "'Hacktiv8-PTP Python for Data Science'"
      ]
     },
     "execution_count": 78,
     "metadata": {},
     "output_type": "execute_result"
    }
   ],
   "source": [
    "import mod as mymodule\n",
    "\n",
    "mymodule.s"
   ]
  },
  {
   "cell_type": "code",
   "execution_count": 79,
   "id": "d33f30ff",
   "metadata": {},
   "outputs": [
    {
     "data": {
      "text/plain": [
       "['In',\n",
       " 'Out',\n",
       " '_',\n",
       " '_11',\n",
       " '_12',\n",
       " '_13',\n",
       " '_17',\n",
       " '_19',\n",
       " '_44',\n",
       " '_46',\n",
       " '_47',\n",
       " '_54',\n",
       " '_56',\n",
       " '_7',\n",
       " '_70',\n",
       " '_72',\n",
       " '_73',\n",
       " '_77',\n",
       " '_78',\n",
       " '_9',\n",
       " '__',\n",
       " '___',\n",
       " '__builtin__',\n",
       " '__builtins__',\n",
       " '__doc__',\n",
       " '__loader__',\n",
       " '__name__',\n",
       " '__package__',\n",
       " '__spec__',\n",
       " '_dh',\n",
       " '_i',\n",
       " '_i1',\n",
       " '_i10',\n",
       " '_i11',\n",
       " '_i12',\n",
       " '_i13',\n",
       " '_i14',\n",
       " '_i15',\n",
       " '_i16',\n",
       " '_i17',\n",
       " '_i18',\n",
       " '_i19',\n",
       " '_i2',\n",
       " '_i20',\n",
       " '_i21',\n",
       " '_i22',\n",
       " '_i23',\n",
       " '_i24',\n",
       " '_i25',\n",
       " '_i26',\n",
       " '_i27',\n",
       " '_i28',\n",
       " '_i29',\n",
       " '_i3',\n",
       " '_i30',\n",
       " '_i31',\n",
       " '_i32',\n",
       " '_i33',\n",
       " '_i34',\n",
       " '_i35',\n",
       " '_i36',\n",
       " '_i37',\n",
       " '_i38',\n",
       " '_i39',\n",
       " '_i4',\n",
       " '_i40',\n",
       " '_i41',\n",
       " '_i42',\n",
       " '_i43',\n",
       " '_i44',\n",
       " '_i45',\n",
       " '_i46',\n",
       " '_i47',\n",
       " '_i48',\n",
       " '_i49',\n",
       " '_i5',\n",
       " '_i50',\n",
       " '_i51',\n",
       " '_i52',\n",
       " '_i53',\n",
       " '_i54',\n",
       " '_i55',\n",
       " '_i56',\n",
       " '_i57',\n",
       " '_i58',\n",
       " '_i59',\n",
       " '_i6',\n",
       " '_i60',\n",
       " '_i61',\n",
       " '_i62',\n",
       " '_i63',\n",
       " '_i64',\n",
       " '_i65',\n",
       " '_i66',\n",
       " '_i67',\n",
       " '_i68',\n",
       " '_i69',\n",
       " '_i7',\n",
       " '_i70',\n",
       " '_i71',\n",
       " '_i72',\n",
       " '_i73',\n",
       " '_i74',\n",
       " '_i75',\n",
       " '_i76',\n",
       " '_i77',\n",
       " '_i78',\n",
       " '_i79',\n",
       " '_i8',\n",
       " '_i9',\n",
       " '_ih',\n",
       " '_ii',\n",
       " '_iii',\n",
       " '_oh',\n",
       " 'a',\n",
       " 'autopep8',\n",
       " 'cari',\n",
       " 'changeme',\n",
       " 'exit',\n",
       " 'foo',\n",
       " 'get_ipython',\n",
       " 'j',\n",
       " 'json',\n",
       " 'jumlah',\n",
       " 'l',\n",
       " 'main',\n",
       " 'math',\n",
       " 'mod',\n",
       " 'mylist',\n",
       " 'mymodule',\n",
       " 'np',\n",
       " 'pd',\n",
       " 'pembelian',\n",
       " 'printinfo',\n",
       " 'printme',\n",
       " 'quit',\n",
       " 's',\n",
       " 'sum',\n",
       " 'sum2',\n",
       " 'summ',\n",
       " 'sys',\n",
       " 'total']"
      ]
     },
     "execution_count": 79,
     "metadata": {},
     "output_type": "execute_result"
    }
   ],
   "source": [
    "dir()"
   ]
  },
  {
   "cell_type": "code",
   "execution_count": 83,
   "id": "ab643f92",
   "metadata": {},
   "outputs": [
    {
     "name": "stdout",
     "output_type": "stream",
     "text": [
      "pip 21.0.1 from C:\\Users\\62852\\anaconda3\\lib\\site-packages\\pip (python 3.8)\n",
      "\n"
     ]
    }
   ],
   "source": [
    "! pip --version"
   ]
  },
  {
   "cell_type": "code",
   "execution_count": 84,
   "id": "b3376c89",
   "metadata": {},
   "outputs": [],
   "source": [
    "import importlib"
   ]
  },
  {
   "cell_type": "code",
   "execution_count": 85,
   "id": "6824bbe4",
   "metadata": {},
   "outputs": [
    {
     "data": {
      "text/plain": [
       "<module 'mod' from 'C:\\\\Users\\\\62852\\\\Documents\\\\magang - Hacktiv8\\\\pertemuan\\\\session 3\\\\mod.py'>"
      ]
     },
     "execution_count": 85,
     "metadata": {},
     "output_type": "execute_result"
    }
   ],
   "source": [
    "importlib.reload(mod)"
   ]
  },
  {
   "cell_type": "code",
   "execution_count": 86,
   "id": "59ce8f6e",
   "metadata": {},
   "outputs": [
    {
     "data": {
      "text/plain": [
       "'Hacktiv8-PTP Python for Data Science'"
      ]
     },
     "execution_count": 86,
     "metadata": {},
     "output_type": "execute_result"
    }
   ],
   "source": [
    "mod.s"
   ]
  },
  {
   "cell_type": "code",
   "execution_count": null,
   "id": "afbc02fb",
   "metadata": {},
   "outputs": [],
   "source": []
  }
 ],
 "metadata": {
  "kernelspec": {
   "display_name": "Python 3",
   "language": "python",
   "name": "python3"
  },
  "language_info": {
   "codemirror_mode": {
    "name": "ipython",
    "version": 3
   },
   "file_extension": ".py",
   "mimetype": "text/x-python",
   "name": "python",
   "nbconvert_exporter": "python",
   "pygments_lexer": "ipython3",
   "version": "3.8.8"
  },
  "toc": {
   "base_numbering": 1,
   "nav_menu": {},
   "number_sections": true,
   "sideBar": true,
   "skip_h1_title": false,
   "title_cell": "Table of Contents",
   "title_sidebar": "Contents",
   "toc_cell": false,
   "toc_position": {},
   "toc_section_display": true,
   "toc_window_display": true
  }
 },
 "nbformat": 4,
 "nbformat_minor": 5
}

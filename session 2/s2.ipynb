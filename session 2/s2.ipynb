{
 "cells": [
  {
   "cell_type": "markdown",
   "id": "5b0eaec5",
   "metadata": {},
   "source": [
    "## Conditional"
   ]
  },
  {
   "cell_type": "code",
   "execution_count": 2,
   "id": "bdc95d56",
   "metadata": {},
   "outputs": [
    {
     "data": {
      "text/plain": [
       "False"
      ]
     },
     "execution_count": 2,
     "metadata": {},
     "output_type": "execute_result"
    }
   ],
   "source": [
    "a = 1\n",
    "b = 2\n",
    "\n",
    "a == b"
   ]
  },
  {
   "cell_type": "code",
   "execution_count": 3,
   "id": "a7622613",
   "metadata": {},
   "outputs": [
    {
     "data": {
      "text/plain": [
       "True"
      ]
     },
     "execution_count": 3,
     "metadata": {},
     "output_type": "execute_result"
    }
   ],
   "source": [
    "a != b"
   ]
  },
  {
   "cell_type": "code",
   "execution_count": 4,
   "id": "3a6e809d",
   "metadata": {},
   "outputs": [
    {
     "data": {
      "text/plain": [
       "False"
      ]
     },
     "execution_count": 4,
     "metadata": {},
     "output_type": "execute_result"
    }
   ],
   "source": [
    "a >= b"
   ]
  },
  {
   "cell_type": "markdown",
   "id": "89ec1fa5",
   "metadata": {},
   "source": [
    "## If Statement"
   ]
  },
  {
   "cell_type": "code",
   "execution_count": 5,
   "id": "a9638aad",
   "metadata": {},
   "outputs": [],
   "source": [
    "if a == b:\n",
    "    print('sama')"
   ]
  },
  {
   "cell_type": "code",
   "execution_count": 6,
   "id": "cec31744",
   "metadata": {},
   "outputs": [
    {
     "name": "stdout",
     "output_type": "stream",
     "text": [
      "beda\n"
     ]
    }
   ],
   "source": [
    "if a != b:\n",
    "    print('beda')"
   ]
  },
  {
   "cell_type": "markdown",
   "id": "a4722c15",
   "metadata": {},
   "source": [
    "## if-else"
   ]
  },
  {
   "cell_type": "code",
   "execution_count": 12,
   "id": "3da18918",
   "metadata": {},
   "outputs": [
    {
     "name": "stdout",
     "output_type": "stream",
     "text": [
      "beda\n",
      "b\n"
     ]
    }
   ],
   "source": [
    "if a == b:\n",
    "    print('sama')\n",
    "    print('a')\n",
    "else:\n",
    "    print('beda')\n",
    "    print('b')"
   ]
  },
  {
   "cell_type": "code",
   "execution_count": 15,
   "id": "8ab31f73",
   "metadata": {},
   "outputs": [
    {
     "name": "stdout",
     "output_type": "stream",
     "text": [
      "majalah dapat dibeli\n"
     ]
    }
   ],
   "source": [
    "harga_buku = 2000\n",
    "harga_majalah = 1000\n",
    "uang = 1500\n",
    "\n",
    "if uang >= harga_buku:\n",
    "    print('buku dapat dibeli')\n",
    "elif uang >= harga_majalah:\n",
    "    print('majalah dapat dibeli')\n",
    "else:\n",
    "    print('uang kurang')"
   ]
  },
  {
   "cell_type": "code",
   "execution_count": 16,
   "id": "26525179",
   "metadata": {},
   "outputs": [
    {
     "name": "stdout",
     "output_type": "stream",
     "text": [
      "Hello Hacktiv8\n"
     ]
    }
   ],
   "source": [
    "name = 'Hacktiv8'\n",
    "if name == 'Fred':\n",
    "    print('Hello Fred')\n",
    "elif name == 'Xander':\n",
    "    print('Hello Xander')\n",
    "elif name == 'Hacktiv8':\n",
    "    print('Hello Hacktiv8')\n",
    "elif name == 'Arnold':\n",
    "    print('Hello Arnold')\n",
    "else:\n",
    "    print(\"I don't know who you are!\")"
   ]
  },
  {
   "cell_type": "markdown",
   "id": "0909a0e1",
   "metadata": {},
   "source": [
    "## tips to check none or empty string"
   ]
  },
  {
   "cell_type": "code",
   "execution_count": 24,
   "id": "cdc2aa7c",
   "metadata": {},
   "outputs": [
    {
     "name": "stdout",
     "output_type": "stream",
     "text": [
      "x nya none\n"
     ]
    }
   ],
   "source": [
    "x = None\n",
    "y = \"\"\n",
    "z = 1\n",
    "\n",
    "if not x:\n",
    "    print('x nya none')"
   ]
  },
  {
   "cell_type": "code",
   "execution_count": 25,
   "id": "a5b91844",
   "metadata": {},
   "outputs": [
    {
     "name": "stdout",
     "output_type": "stream",
     "text": [
      "y nya none\n"
     ]
    }
   ],
   "source": [
    "if not y:\n",
    "    print('y nya none')"
   ]
  },
  {
   "cell_type": "code",
   "execution_count": 26,
   "id": "9bf0f241",
   "metadata": {},
   "outputs": [
    {
     "name": "stdout",
     "output_type": "stream",
     "text": [
      "z nya ada\n"
     ]
    }
   ],
   "source": [
    "if z:\n",
    "    print('z nya ada')"
   ]
  },
  {
   "cell_type": "markdown",
   "id": "7a5f02b5",
   "metadata": {},
   "source": [
    "## one line if statements"
   ]
  },
  {
   "cell_type": "code",
   "execution_count": 29,
   "id": "6014d194",
   "metadata": {},
   "outputs": [
    {
     "name": "stdout",
     "output_type": "stream",
     "text": [
      "there is fish\n"
     ]
    }
   ],
   "source": [
    "basket = ['fish', 'meat', 'noodle']\n",
    "if 'fish' in basket : print('there is fish')\n",
    "elif 'meat' in basket : print('there is meat')\n",
    "elif 'noodle' in basket : print('there is noodle')"
   ]
  },
  {
   "cell_type": "code",
   "execution_count": 31,
   "id": "754726df",
   "metadata": {},
   "outputs": [
    {
     "data": {
      "text/plain": [
       "'satu'"
      ]
     },
     "execution_count": 31,
     "metadata": {},
     "output_type": "execute_result"
    }
   ],
   "source": [
    "x = 1\n",
    "\"satu\" if x == 1 else \"bukan 1\""
   ]
  },
  {
   "cell_type": "code",
   "execution_count": 35,
   "id": "a49e17d6",
   "metadata": {},
   "outputs": [
    {
     "name": "stdout",
     "output_type": "stream",
     "text": [
      "lets go to the beach\n"
     ]
    }
   ],
   "source": [
    "raining = False\n",
    "print('lets go to the', 'beach' if not raining else 'mountain')"
   ]
  },
  {
   "cell_type": "code",
   "execution_count": 36,
   "id": "df94d10a",
   "metadata": {},
   "outputs": [
    {
     "data": {
      "text/plain": [
       "'teen'"
      ]
     },
     "execution_count": 36,
     "metadata": {},
     "output_type": "execute_result"
    }
   ],
   "source": [
    "age = 12\n",
    "s = 'teen' if age < 21 else 'old'\n",
    "s"
   ]
  },
  {
   "cell_type": "markdown",
   "id": "928f00f6",
   "metadata": {},
   "source": [
    "## pass statement"
   ]
  },
  {
   "cell_type": "code",
   "execution_count": null,
   "id": "c0fa0624",
   "metadata": {},
   "outputs": [],
   "source": [
    "choice = \"blue\"\n",
    "\n",
    "if choice == 'blue':\n",
    "    pass\n",
    "elif choice == 'red':\n",
    "    print(\"merah\")"
   ]
  },
  {
   "cell_type": "markdown",
   "id": "f2fc745a",
   "metadata": {},
   "source": [
    "## looping / iteration"
   ]
  },
  {
   "cell_type": "markdown",
   "id": "17077862",
   "metadata": {},
   "source": [
    "### indefinite"
   ]
  },
  {
   "cell_type": "code",
   "execution_count": 62,
   "id": "986c9e7f",
   "metadata": {},
   "outputs": [
    {
     "name": "stdout",
     "output_type": "stream",
     "text": [
      "0\n",
      "1\n",
      "2\n",
      "3\n",
      "4\n",
      "5\n",
      "6\n",
      "7\n",
      "8\n",
      "9\n"
     ]
    }
   ],
   "source": [
    "for i in range(10):\n",
    "    print(i)"
   ]
  },
  {
   "cell_type": "markdown",
   "id": "17509296",
   "metadata": {},
   "source": [
    "### definite"
   ]
  },
  {
   "cell_type": "code",
   "execution_count": 47,
   "id": "281bbc81",
   "metadata": {
    "scrolled": true
   },
   "outputs": [
    {
     "name": "stdout",
     "output_type": "stream",
     "text": [
      "5\n",
      "4\n",
      "3\n",
      "2\n",
      "1\n"
     ]
    }
   ],
   "source": [
    "n = 5\n",
    "while n >= 1:\n",
    "    print(n)\n",
    "    n -= 1"
   ]
  },
  {
   "cell_type": "code",
   "execution_count": 55,
   "id": "9960ad29",
   "metadata": {},
   "outputs": [
    {
     "name": "stdout",
     "output_type": "stream",
     "text": [
      "5\n",
      "4\n",
      "3\n",
      "2\n",
      "1\n",
      "done\n"
     ]
    }
   ],
   "source": [
    "n = 5\n",
    "while n >= 1:\n",
    "    print(n)\n",
    "    n -= 1\n",
    "else:\n",
    "    print('done')"
   ]
  },
  {
   "cell_type": "code",
   "execution_count": 57,
   "id": "6be6abe4",
   "metadata": {
    "scrolled": true
   },
   "outputs": [
    {
     "name": "stdout",
     "output_type": "stream",
     "text": [
      "5\n",
      "masih banyak\n",
      "4\n",
      "masih banyak\n",
      "3\n",
      "masih banyak\n",
      "2\n",
      "masih banyak\n",
      "1\n",
      "abis\n"
     ]
    }
   ],
   "source": [
    "n = 5\n",
    "while n >= 1:\n",
    "    print(n)\n",
    "    if n > 1:\n",
    "        print('masih banyak')\n",
    "    else:\n",
    "        print('abis')\n",
    "    n -= 1"
   ]
  },
  {
   "cell_type": "code",
   "execution_count": null,
   "id": "d95bcee6",
   "metadata": {},
   "outputs": [],
   "source": [
    "# definite = for\n",
    "# indefinite = while"
   ]
  },
  {
   "cell_type": "code",
   "execution_count": 64,
   "id": "52c502ee",
   "metadata": {},
   "outputs": [
    {
     "name": "stdout",
     "output_type": "stream",
     "text": [
      "a\n",
      "b\n",
      "c\n",
      "d\n"
     ]
    }
   ],
   "source": [
    "tup = ('a','b','c','d')\n",
    "\n",
    "for i in tup:\n",
    "    print(i)"
   ]
  },
  {
   "cell_type": "code",
   "execution_count": 156,
   "id": "b13cb375",
   "metadata": {},
   "outputs": [
    {
     "name": "stdout",
     "output_type": "stream",
     "text": [
      "a\n",
      "b\n"
     ]
    }
   ],
   "source": [
    "dict = {'a':1, 'b':2}\n",
    "for i in dict:\n",
    "    print(i)"
   ]
  },
  {
   "cell_type": "code",
   "execution_count": 155,
   "id": "fbc2dea2",
   "metadata": {},
   "outputs": [
    {
     "name": "stdout",
     "output_type": "stream",
     "text": [
      "1\n",
      "2\n"
     ]
    }
   ],
   "source": [
    "dict = {'a':1, 'b':2}\n",
    "for i in dict:\n",
    "    print(dict[i])"
   ]
  },
  {
   "cell_type": "code",
   "execution_count": 65,
   "id": "a1ab9560",
   "metadata": {},
   "outputs": [
    {
     "name": "stdout",
     "output_type": "stream",
     "text": [
      "0 a\n",
      "1 b\n",
      "2 c\n"
     ]
    }
   ],
   "source": [
    "a = [1,2,3]\n",
    "b = ['a','b','c']\n",
    "\n",
    "for index, element in enumerate(b):\n",
    "    print(index, element)"
   ]
  },
  {
   "cell_type": "markdown",
   "id": "b2174012",
   "metadata": {},
   "source": [
    "## break"
   ]
  },
  {
   "cell_type": "code",
   "execution_count": 49,
   "id": "b8001ecc",
   "metadata": {},
   "outputs": [
    {
     "name": "stdout",
     "output_type": "stream",
     "text": [
      "5\n",
      "4\n",
      "3\n"
     ]
    }
   ],
   "source": [
    "n = 5\n",
    "while n >= 1:\n",
    "    if n == 2:\n",
    "        break\n",
    "    print(n)\n",
    "    n -= 1"
   ]
  },
  {
   "cell_type": "markdown",
   "id": "e5a0fd95",
   "metadata": {},
   "source": [
    "## tambahan latihan"
   ]
  },
  {
   "cell_type": "code",
   "execution_count": 86,
   "id": "58ea9db8",
   "metadata": {},
   "outputs": [
    {
     "name": "stdout",
     "output_type": "stream",
     "text": [
      "    *\n",
      "   **\n",
      "  ***\n",
      " ****\n",
      "*****\n"
     ]
    }
   ],
   "source": [
    "stars = 5\n",
    "\n",
    "for i in range(stars):\n",
    "    space = stars - (i+1)\n",
    "    star = i+1\n",
    "    print(' '*space + '*'*star)"
   ]
  },
  {
   "cell_type": "code",
   "execution_count": 148,
   "id": "0da23ff1",
   "metadata": {},
   "outputs": [
    {
     "name": "stdout",
     "output_type": "stream",
     "text": [
      "2 3 5 7 11 13 17 19 23 29 31 37 41 43 47 \n"
     ]
    }
   ],
   "source": [
    "start = 1\n",
    "end = 50\n",
    "\n",
    "bil = ''\n",
    "for i in range(start,end+1):\n",
    "    if i > 1:\n",
    "        flag = 0\n",
    "        for j in range(1,i):\n",
    "            if i % j == 0:\n",
    "                flag += 1\n",
    "        if flag == 1:\n",
    "            bil = bil + str(i)+' '\n",
    "print(bil)"
   ]
  },
  {
   "cell_type": "code",
   "execution_count": null,
   "id": "65d1f5ab",
   "metadata": {},
   "outputs": [],
   "source": []
  }
 ],
 "metadata": {
  "kernelspec": {
   "display_name": "Python 3",
   "language": "python",
   "name": "python3"
  },
  "language_info": {
   "codemirror_mode": {
    "name": "ipython",
    "version": 3
   },
   "file_extension": ".py",
   "mimetype": "text/x-python",
   "name": "python",
   "nbconvert_exporter": "python",
   "pygments_lexer": "ipython3",
   "version": "3.8.8"
  },
  "toc": {
   "base_numbering": 1,
   "nav_menu": {},
   "number_sections": true,
   "sideBar": true,
   "skip_h1_title": false,
   "title_cell": "Table of Contents",
   "title_sidebar": "Contents",
   "toc_cell": false,
   "toc_position": {
    "height": "calc(100% - 180px)",
    "left": "10px",
    "top": "150px",
    "width": "426.667px"
   },
   "toc_section_display": true,
   "toc_window_display": false
  }
 },
 "nbformat": 4,
 "nbformat_minor": 5
}

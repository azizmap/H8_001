{
 "cells": [
  {
   "cell_type": "markdown",
   "id": "8c605c39",
   "metadata": {},
   "source": [
    "## Conditional"
   ]
  },
  {
   "cell_type": "code",
   "execution_count": 2,
   "id": "f6eaff52",
   "metadata": {},
   "outputs": [
    {
     "data": {
      "text/plain": [
       "False"
      ]
     },
     "execution_count": 2,
     "metadata": {},
     "output_type": "execute_result"
    }
   ],
   "source": [
    "a = 1\n",
    "b = 2\n",
    "\n",
    "a == b"
   ]
  },
  {
   "cell_type": "code",
   "execution_count": 3,
   "id": "b1c635b4",
   "metadata": {},
   "outputs": [
    {
     "data": {
      "text/plain": [
       "True"
      ]
     },
     "execution_count": 3,
     "metadata": {},
     "output_type": "execute_result"
    }
   ],
   "source": [
    "a != b"
   ]
  },
  {
   "cell_type": "code",
   "execution_count": 4,
   "id": "2a2342b3",
   "metadata": {},
   "outputs": [
    {
     "data": {
      "text/plain": [
       "False"
      ]
     },
     "execution_count": 4,
     "metadata": {},
     "output_type": "execute_result"
    }
   ],
   "source": [
    "a >= b"
   ]
  },
  {
   "cell_type": "markdown",
   "id": "5a0fd60a",
   "metadata": {},
   "source": [
    "## If Statement"
   ]
  },
  {
   "cell_type": "code",
   "execution_count": 5,
   "id": "ae2cba2a",
   "metadata": {},
   "outputs": [],
   "source": [
    "if a == b:\n",
    "    print('sama')"
   ]
  },
  {
   "cell_type": "code",
   "execution_count": 6,
   "id": "f7ae90d0",
   "metadata": {},
   "outputs": [
    {
     "name": "stdout",
     "output_type": "stream",
     "text": [
      "beda\n"
     ]
    }
   ],
   "source": [
    "if a != b:\n",
    "    print('beda')"
   ]
  },
  {
   "cell_type": "markdown",
   "id": "7a996d5a",
   "metadata": {},
   "source": [
    "## if-else"
   ]
  },
  {
   "cell_type": "code",
   "execution_count": 12,
   "id": "9f8a338e",
   "metadata": {},
   "outputs": [
    {
     "name": "stdout",
     "output_type": "stream",
     "text": [
      "beda\n",
      "b\n"
     ]
    }
   ],
   "source": [
    "if a == b:\n",
    "    print('sama')\n",
    "    print('a')\n",
    "else:\n",
    "    print('beda')\n",
    "    print('b')"
   ]
  },
  {
   "cell_type": "code",
   "execution_count": 15,
   "id": "451c8309",
   "metadata": {},
   "outputs": [
    {
     "name": "stdout",
     "output_type": "stream",
     "text": [
      "majalah dapat dibeli\n"
     ]
    }
   ],
   "source": [
    "harga_buku = 2000\n",
    "harga_majalah = 1000\n",
    "uang = 1500\n",
    "\n",
    "if uang >= harga_buku:\n",
    "    print('buku dapat dibeli')\n",
    "elif uang >= harga_majalah:\n",
    "    print('majalah dapat dibeli')\n",
    "else:\n",
    "    print('uang kurang')"
   ]
  },
  {
   "cell_type": "code",
   "execution_count": 16,
   "id": "0ce5add7",
   "metadata": {},
   "outputs": [
    {
     "name": "stdout",
     "output_type": "stream",
     "text": [
      "Hello Hacktiv8\n"
     ]
    }
   ],
   "source": [
    "name = 'Hacktiv8'\n",
    "if name == 'Fred':\n",
    "    print('Hello Fred')\n",
    "elif name == 'Xander':\n",
    "    print('Hello Xander')\n",
    "elif name == 'Hacktiv8':\n",
    "    print('Hello Hacktiv8')\n",
    "elif name == 'Arnold':\n",
    "    print('Hello Arnold')\n",
    "else:\n",
    "    print(\"I don't know who you are!\")"
   ]
  },
  {
   "cell_type": "markdown",
   "id": "ee52da1f",
   "metadata": {},
   "source": [
    "## tips to check none or empty string"
   ]
  },
  {
   "cell_type": "code",
   "execution_count": 24,
   "id": "58faf95a",
   "metadata": {},
   "outputs": [
    {
     "name": "stdout",
     "output_type": "stream",
     "text": [
      "x nya none\n"
     ]
    }
   ],
   "source": [
    "x = None\n",
    "y = \"\"\n",
    "z = 1\n",
    "\n",
    "if not x:\n",
    "    print('x nya none')"
   ]
  },
  {
   "cell_type": "code",
   "execution_count": 25,
   "id": "69d0b289",
   "metadata": {},
   "outputs": [
    {
     "name": "stdout",
     "output_type": "stream",
     "text": [
      "y nya none\n"
     ]
    }
   ],
   "source": [
    "if not y:\n",
    "    print('y nya none')"
   ]
  },
  {
   "cell_type": "code",
   "execution_count": 26,
   "id": "b8b5587e",
   "metadata": {},
   "outputs": [
    {
     "name": "stdout",
     "output_type": "stream",
     "text": [
      "z nya ada\n"
     ]
    }
   ],
   "source": [
    "if z:\n",
    "    print('z nya ada')"
   ]
  },
  {
   "cell_type": "markdown",
   "id": "31b61e1e",
   "metadata": {},
   "source": [
    "## one line if statements"
   ]
  },
  {
   "cell_type": "code",
   "execution_count": 29,
   "id": "74157a90",
   "metadata": {},
   "outputs": [
    {
     "name": "stdout",
     "output_type": "stream",
     "text": [
      "there is fish\n"
     ]
    }
   ],
   "source": [
    "basket = ['fish', 'meat', 'noodle']\n",
    "if 'fish' in basket : print('there is fish')\n",
    "elif 'meat' in basket : print('there is meat')\n",
    "elif 'noodle' in basket : print('there is noodle')"
   ]
  },
  {
   "cell_type": "code",
   "execution_count": 31,
   "id": "8ab033b7",
   "metadata": {},
   "outputs": [
    {
     "data": {
      "text/plain": [
       "'satu'"
      ]
     },
     "execution_count": 31,
     "metadata": {},
     "output_type": "execute_result"
    }
   ],
   "source": [
    "x = 1\n",
    "\"satu\" if x == 1 else \"bukan 1\""
   ]
  },
  {
   "cell_type": "code",
   "execution_count": 35,
   "id": "22ff3406",
   "metadata": {},
   "outputs": [
    {
     "name": "stdout",
     "output_type": "stream",
     "text": [
      "lets go to the beach\n"
     ]
    }
   ],
   "source": [
    "raining = False\n",
    "print('lets go to the', 'beach' if not raining else 'mountain')"
   ]
  },
  {
   "cell_type": "code",
   "execution_count": 36,
   "id": "db2829a6",
   "metadata": {},
   "outputs": [
    {
     "data": {
      "text/plain": [
       "'teen'"
      ]
     },
     "execution_count": 36,
     "metadata": {},
     "output_type": "execute_result"
    }
   ],
   "source": [
    "age = 12\n",
    "s = 'teen' if age < 21 else 'old'\n",
    "s"
   ]
  },
  {
   "cell_type": "markdown",
   "id": "cf20422e",
   "metadata": {},
   "source": [
    "## pass statement"
   ]
  },
  {
   "cell_type": "code",
   "execution_count": null,
   "id": "abb4150c",
   "metadata": {},
   "outputs": [],
   "source": [
    "choice = \"blue\"\n",
    "\n",
    "if choice == 'blue':\n",
    "    pass\n",
    "elif choice == 'red':\n",
    "    print(\"merah\")"
   ]
  },
  {
   "cell_type": "markdown",
   "id": "4b680acf",
   "metadata": {},
   "source": [
    "## looping / iteration"
   ]
  },
  {
   "cell_type": "markdown",
   "id": "76fb1d17",
   "metadata": {},
   "source": [
    "### indefinite"
   ]
  },
  {
   "cell_type": "code",
   "execution_count": 62,
   "id": "87393523",
   "metadata": {},
   "outputs": [
    {
     "name": "stdout",
     "output_type": "stream",
     "text": [
      "0\n",
      "1\n",
      "2\n",
      "3\n",
      "4\n",
      "5\n",
      "6\n",
      "7\n",
      "8\n",
      "9\n"
     ]
    }
   ],
   "source": [
    "for i in range(10):\n",
    "    print(i)"
   ]
  },
  {
   "cell_type": "markdown",
   "id": "09b9d72b",
   "metadata": {},
   "source": [
    "### definite"
   ]
  },
  {
   "cell_type": "code",
   "execution_count": 47,
   "id": "463bb77c",
   "metadata": {
    "scrolled": true
   },
   "outputs": [
    {
     "name": "stdout",
     "output_type": "stream",
     "text": [
      "5\n",
      "4\n",
      "3\n",
      "2\n",
      "1\n"
     ]
    }
   ],
   "source": [
    "n = 5\n",
    "while n >= 1:\n",
    "    print(n)\n",
    "    n -= 1"
   ]
  },
  {
   "cell_type": "code",
   "execution_count": 55,
   "id": "f5bfc937",
   "metadata": {},
   "outputs": [
    {
     "name": "stdout",
     "output_type": "stream",
     "text": [
      "5\n",
      "4\n",
      "3\n",
      "2\n",
      "1\n",
      "done\n"
     ]
    }
   ],
   "source": [
    "n = 5\n",
    "while n >= 1:\n",
    "    print(n)\n",
    "    n -= 1\n",
    "else:\n",
    "    print('done')"
   ]
  },
  {
   "cell_type": "code",
   "execution_count": 57,
   "id": "aa408651",
   "metadata": {
    "scrolled": true
   },
   "outputs": [
    {
     "name": "stdout",
     "output_type": "stream",
     "text": [
      "5\n",
      "masih banyak\n",
      "4\n",
      "masih banyak\n",
      "3\n",
      "masih banyak\n",
      "2\n",
      "masih banyak\n",
      "1\n",
      "abis\n"
     ]
    }
   ],
   "source": [
    "n = 5\n",
    "while n >= 1:\n",
    "    print(n)\n",
    "    if n > 1:\n",
    "        print('masih banyak')\n",
    "    else:\n",
    "        print('abis')\n",
    "    n -= 1"
   ]
  },
  {
   "cell_type": "code",
   "execution_count": null,
   "id": "aa3f1388",
   "metadata": {},
   "outputs": [],
   "source": [
    "# definite = for\n",
    "# indefinite = while"
   ]
  },
  {
   "cell_type": "code",
   "execution_count": 64,
   "id": "602eeb64",
   "metadata": {},
   "outputs": [
    {
     "name": "stdout",
     "output_type": "stream",
     "text": [
      "a\n",
      "b\n",
      "c\n",
      "d\n"
     ]
    }
   ],
   "source": [
    "tup = ('a','b','c','d')\n",
    "\n",
    "for i in tup:\n",
    "    print(i)"
   ]
  },
  {
   "cell_type": "code",
   "execution_count": 65,
   "id": "e087efbb",
   "metadata": {},
   "outputs": [
    {
     "name": "stdout",
     "output_type": "stream",
     "text": [
      "0 a\n",
      "1 b\n",
      "2 c\n"
     ]
    }
   ],
   "source": [
    "a = [1,2,3]\n",
    "b = ['a','b','c']\n",
    "\n",
    "for index, element in enumerate(b):\n",
    "    print(index, element)"
   ]
  },
  {
   "cell_type": "code",
   "execution_count": null,
   "id": "31ee3ea8",
   "metadata": {},
   "outputs": [],
   "source": [
    "for a,b zip"
   ]
  },
  {
   "cell_type": "markdown",
   "id": "1bee169b",
   "metadata": {},
   "source": [
    "## break"
   ]
  },
  {
   "cell_type": "code",
   "execution_count": 49,
   "id": "4a3b1104",
   "metadata": {},
   "outputs": [
    {
     "name": "stdout",
     "output_type": "stream",
     "text": [
      "5\n",
      "4\n",
      "3\n"
     ]
    }
   ],
   "source": [
    "n = 5\n",
    "while n >= 1:\n",
    "    if n == 2:\n",
    "        break\n",
    "    print(n)\n",
    "    n -= 1"
   ]
  },
  {
   "cell_type": "markdown",
   "id": "7e7eb678",
   "metadata": {},
   "source": [
    "## tambahan latihan"
   ]
  },
  {
   "cell_type": "code",
   "execution_count": 86,
   "id": "ff631da5",
   "metadata": {},
   "outputs": [
    {
     "name": "stdout",
     "output_type": "stream",
     "text": [
      "    *\n",
      "   **\n",
      "  ***\n",
      " ****\n",
      "*****\n"
     ]
    }
   ],
   "source": [
    "stars = 5\n",
    "\n",
    "for i in range(stars):\n",
    "    space = stars - (i+1)\n",
    "    star = i+1\n",
    "    print(' '*space + '*'*star)"
   ]
  },
  {
   "cell_type": "code",
   "execution_count": 76,
   "id": "f5d2b2bd",
   "metadata": {},
   "outputs": [
    {
     "name": "stdout",
     "output_type": "stream",
     "text": [
      "2 3 5 7 11 13 17 19 23 25 29 31 35 37 41 43 47 49 "
     ]
    }
   ],
   "source": [
    "start = 1\n",
    "end = 50\n",
    "\n",
    "i = 1\n",
    "for i in range(end+1):\n",
    "    if i != 1:\n",
    "        if i == 1:\n",
    "            pass\n",
    "        else:\n",
    "            if \n",
    "            if i % 2 == 0 or i%3 == 0:\n",
    "                pass\n",
    "            else:\n",
    "                print(i, end=' ')"
   ]
  },
  {
   "cell_type": "code",
   "execution_count": null,
   "id": "d52670d8",
   "metadata": {},
   "outputs": [],
   "source": []
  }
 ],
 "metadata": {
  "kernelspec": {
   "display_name": "Python 3",
   "language": "python",
   "name": "python3"
  },
  "language_info": {
   "codemirror_mode": {
    "name": "ipython",
    "version": 3
   },
   "file_extension": ".py",
   "mimetype": "text/x-python",
   "name": "python",
   "nbconvert_exporter": "python",
   "pygments_lexer": "ipython3",
   "version": "3.8.8"
  },
  "toc": {
   "base_numbering": 1,
   "nav_menu": {},
   "number_sections": true,
   "sideBar": true,
   "skip_h1_title": false,
   "title_cell": "Table of Contents",
   "title_sidebar": "Contents",
   "toc_cell": false,
   "toc_position": {
    "height": "calc(100% - 180px)",
    "left": "10px",
    "top": "150px",
    "width": "426.667px"
   },
   "toc_section_display": true,
   "toc_window_display": false
  }
 },
 "nbformat": 4,
 "nbformat_minor": 5
}

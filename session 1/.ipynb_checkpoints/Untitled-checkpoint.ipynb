{
 "cells": [
  {
   "cell_type": "markdown",
   "id": "e775d6a9",
   "metadata": {},
   "source": [
    "# Pertemuan 1"
   ]
  },
  {
   "cell_type": "code",
   "execution_count": 11,
   "id": "2ef1c56a",
   "metadata": {},
   "outputs": [],
   "source": [
    "import math"
   ]
  },
  {
   "cell_type": "markdown",
   "id": "42313ca0",
   "metadata": {},
   "source": [
    "### Integer"
   ]
  },
  {
   "cell_type": "code",
   "execution_count": 7,
   "id": "80c28585",
   "metadata": {
    "scrolled": true
   },
   "outputs": [
    {
     "name": "stdout",
     "output_type": "stream",
     "text": [
      "101\n",
      "1000000000000000\n",
      "<class 'int'>\n"
     ]
    }
   ],
   "source": [
    "print(100 + 1)\n",
    "print(1000000000000000)\n",
    "print(type(10))"
   ]
  },
  {
   "cell_type": "markdown",
   "id": "389f83d0",
   "metadata": {},
   "source": [
    "### Float"
   ]
  },
  {
   "cell_type": "code",
   "execution_count": 18,
   "id": "18eda61c",
   "metadata": {},
   "outputs": [
    {
     "name": "stdout",
     "output_type": "stream",
     "text": [
      "4.2\n",
      "268.8\n",
      "<class 'float'>\n"
     ]
    }
   ],
   "source": [
    "print(4.2)\n",
    "print(4.2*math.pow(2,6))\n",
    "print(type(4.2))"
   ]
  },
  {
   "cell_type": "markdown",
   "id": "4b81c86c",
   "metadata": {},
   "source": [
    "### String"
   ]
  },
  {
   "cell_type": "code",
   "execution_count": 25,
   "id": "074b9be8",
   "metadata": {},
   "outputs": [
    {
     "name": "stdout",
     "output_type": "stream",
     "text": [
      "Hacktiv8\n",
      "<class 'str'>\n",
      "1\n",
      "1\n"
     ]
    }
   ],
   "source": [
    "print(\"Hacktiv8\")\n",
    "print(type(\"Hacktiv8\"))\n",
    "if type(\"Hacktiv8\") == str:\n",
    "    print(1)\n",
    "if isinstance(\"Hacktiv8\",str):\n",
    "    print(1)"
   ]
  },
  {
   "cell_type": "code",
   "execution_count": 33,
   "id": "17159d66",
   "metadata": {},
   "outputs": [
    {
     "name": "stdout",
     "output_type": "stream",
     "text": [
      "abc\n",
      "abc 'a'\n",
      "abc \"\" \n",
      "\n",
      "    select * from table a where a = 1\n",
      "\n"
     ]
    }
   ],
   "source": [
    "print(\"abc\")\n",
    "print(\"abc 'a'\")\n",
    "print(\"abc \\\"\\\" \")\n",
    "print(\"\"\"\n",
    "    select * from table a where a = 1\n",
    "\"\"\")"
   ]
  },
  {
   "cell_type": "markdown",
   "id": "2cfae17e",
   "metadata": {},
   "source": [
    "### Boolean"
   ]
  },
  {
   "cell_type": "code",
   "execution_count": 36,
   "id": "7756fee1",
   "metadata": {},
   "outputs": [
    {
     "name": "stdout",
     "output_type": "stream",
     "text": [
      "<class 'bool'>\n"
     ]
    }
   ],
   "source": [
    "False\n",
    "print(type(True))"
   ]
  },
  {
   "cell_type": "markdown",
   "id": "4fc7bb15",
   "metadata": {},
   "source": [
    "### Variable Assignment"
   ]
  },
  {
   "cell_type": "code",
   "execution_count": 42,
   "id": "236344ee",
   "metadata": {},
   "outputs": [
    {
     "data": {
      "text/plain": [
       "100"
      ]
     },
     "execution_count": 42,
     "metadata": {},
     "output_type": "execute_result"
    }
   ],
   "source": [
    "a = 100\n",
    "a"
   ]
  },
  {
   "cell_type": "code",
   "execution_count": 41,
   "id": "53156456",
   "metadata": {},
   "outputs": [
    {
     "data": {
      "text/plain": [
       "121"
      ]
     },
     "execution_count": 41,
     "metadata": {},
     "output_type": "execute_result"
    }
   ],
   "source": [
    "b = 21 + a\n",
    "b"
   ]
  },
  {
   "cell_type": "code",
   "execution_count": 43,
   "id": "f1fb981e",
   "metadata": {},
   "outputs": [
    {
     "name": "stdout",
     "output_type": "stream",
     "text": [
      "100 100 100\n"
     ]
    }
   ],
   "source": [
    "a = b = c = 100\n",
    "print(a,b,c)"
   ]
  },
  {
   "cell_type": "markdown",
   "id": "1f2614e3",
   "metadata": {},
   "source": [
    "### string manipulation"
   ]
  },
  {
   "cell_type": "code",
   "execution_count": 47,
   "id": "be494c51",
   "metadata": {},
   "outputs": [],
   "source": [
    "s = 'foo'\n",
    "t = 'fus'\n",
    "u = 'fas'\n",
    "v = 1"
   ]
  },
  {
   "cell_type": "code",
   "execution_count": 48,
   "id": "02edb755",
   "metadata": {},
   "outputs": [
    {
     "data": {
      "text/plain": [
       "'foofusfas'"
      ]
     },
     "execution_count": 48,
     "metadata": {},
     "output_type": "execute_result"
    }
   ],
   "source": [
    "s + t + u"
   ]
  },
  {
   "cell_type": "code",
   "execution_count": 49,
   "id": "6e3811a7",
   "metadata": {},
   "outputs": [
    {
     "data": {
      "text/plain": [
       "'fas1'"
      ]
     },
     "execution_count": 49,
     "metadata": {},
     "output_type": "execute_result"
    }
   ],
   "source": [
    "u + str(v)"
   ]
  },
  {
   "cell_type": "code",
   "execution_count": 50,
   "id": "ed25f443",
   "metadata": {},
   "outputs": [
    {
     "data": {
      "text/plain": [
       "'foo fus fas'"
      ]
     },
     "execution_count": 50,
     "metadata": {},
     "output_type": "execute_result"
    }
   ],
   "source": [
    "\"{} {} {}\".format(s,t,u)"
   ]
  },
  {
   "cell_type": "code",
   "execution_count": 51,
   "id": "602964aa",
   "metadata": {},
   "outputs": [
    {
     "data": {
      "text/plain": [
       "'Hasil sale ini foo adalah fus'"
      ]
     },
     "execution_count": 51,
     "metadata": {},
     "output_type": "execute_result"
    }
   ],
   "source": [
    "\"Hasil sale ini {month} adalah {sale}\".format(month=s, sale=t)"
   ]
  },
  {
   "cell_type": "code",
   "execution_count": 52,
   "id": "e41c0de3",
   "metadata": {},
   "outputs": [
    {
     "data": {
      "text/plain": [
       "'foofoofoo'"
      ]
     },
     "execution_count": 52,
     "metadata": {},
     "output_type": "execute_result"
    }
   ],
   "source": [
    "s*3"
   ]
  },
  {
   "cell_type": "code",
   "execution_count": 57,
   "id": "9b37ef1b",
   "metadata": {},
   "outputs": [
    {
     "data": {
      "text/plain": [
       "True"
      ]
     },
     "execution_count": 57,
     "metadata": {},
     "output_type": "execute_result"
    }
   ],
   "source": [
    "taman = \"taman\"\n",
    "taman in \"apakah dia ketaman hari ini\""
   ]
  },
  {
   "cell_type": "code",
   "execution_count": 62,
   "id": "5009cf4d",
   "metadata": {},
   "outputs": [
    {
     "data": {
      "text/plain": [
       "'Foo'"
      ]
     },
     "execution_count": 62,
     "metadata": {},
     "output_type": "execute_result"
    }
   ],
   "source": [
    "s.capitalize()"
   ]
  },
  {
   "cell_type": "code",
   "execution_count": 63,
   "id": "41165f02",
   "metadata": {},
   "outputs": [
    {
     "data": {
      "text/plain": [
       "'hacktiv8'"
      ]
     },
     "execution_count": 63,
     "metadata": {},
     "output_type": "execute_result"
    }
   ],
   "source": [
    "\"HACKTIV8\".lower()"
   ]
  },
  {
   "cell_type": "code",
   "execution_count": 74,
   "id": "ff525cd7",
   "metadata": {},
   "outputs": [],
   "source": [
    "a = [5,6,2,3]\n",
    "b = [8,5]"
   ]
  },
  {
   "cell_type": "code",
   "execution_count": 75,
   "id": "bc0abe23",
   "metadata": {},
   "outputs": [
    {
     "data": {
      "text/plain": [
       "2"
      ]
     },
     "execution_count": 75,
     "metadata": {},
     "output_type": "execute_result"
    }
   ],
   "source": [
    "len(a)\n",
    "max(a)\n",
    "min(a)"
   ]
  },
  {
   "cell_type": "code",
   "execution_count": 76,
   "id": "c1c02d82",
   "metadata": {},
   "outputs": [
    {
     "data": {
      "text/plain": [
       "[5, 6, 2, 3, 8, 5]"
      ]
     },
     "execution_count": 76,
     "metadata": {},
     "output_type": "execute_result"
    }
   ],
   "source": [
    "a + b"
   ]
  },
  {
   "cell_type": "code",
   "execution_count": 73,
   "id": "5fd66ebe",
   "metadata": {},
   "outputs": [
    {
     "data": {
      "text/plain": [
       "[6, 2, 3]"
      ]
     },
     "execution_count": 73,
     "metadata": {},
     "output_type": "execute_result"
    }
   ],
   "source": [
    "a[1:4]"
   ]
  },
  {
   "cell_type": "code",
   "execution_count": 69,
   "id": "ece908ee",
   "metadata": {},
   "outputs": [
    {
     "data": {
      "text/plain": [
       "[1, 2, 3]"
      ]
     },
     "execution_count": 69,
     "metadata": {},
     "output_type": "execute_result"
    }
   ],
   "source": [
    "eval(\"[1,2,3]\")"
   ]
  },
  {
   "cell_type": "code",
   "execution_count": 70,
   "id": "4e4f3986",
   "metadata": {},
   "outputs": [
    {
     "data": {
      "text/plain": [
       "list"
      ]
     },
     "execution_count": 70,
     "metadata": {},
     "output_type": "execute_result"
    }
   ],
   "source": [
    "type(eval(\"[1,2,3]\"))"
   ]
  },
  {
   "cell_type": "markdown",
   "id": "553f7318",
   "metadata": {},
   "source": [
    "### tuple"
   ]
  },
  {
   "cell_type": "code",
   "execution_count": 77,
   "id": "7cebf6fd",
   "metadata": {},
   "outputs": [],
   "source": [
    "tup = ('a','b','c')"
   ]
  },
  {
   "cell_type": "code",
   "execution_count": 78,
   "id": "024387b9",
   "metadata": {},
   "outputs": [
    {
     "data": {
      "text/plain": [
       "('a', 'b', 'c')"
      ]
     },
     "execution_count": 78,
     "metadata": {},
     "output_type": "execute_result"
    }
   ],
   "source": [
    "tup"
   ]
  },
  {
   "cell_type": "code",
   "execution_count": 79,
   "id": "763196bd",
   "metadata": {},
   "outputs": [
    {
     "data": {
      "text/plain": [
       "tuple"
      ]
     },
     "execution_count": 79,
     "metadata": {},
     "output_type": "execute_result"
    }
   ],
   "source": [
    "type(tup)"
   ]
  },
  {
   "cell_type": "code",
   "execution_count": 80,
   "id": "15f738b4",
   "metadata": {},
   "outputs": [
    {
     "data": {
      "text/plain": [
       "'a'"
      ]
     },
     "execution_count": 80,
     "metadata": {},
     "output_type": "execute_result"
    }
   ],
   "source": [
    "tup[0]"
   ]
  },
  {
   "cell_type": "code",
   "execution_count": 82,
   "id": "4f98cb74",
   "metadata": {},
   "outputs": [],
   "source": [
    "# unpacking variables\n",
    "(s1,s2,s3) = tup"
   ]
  },
  {
   "cell_type": "code",
   "execution_count": 83,
   "id": "6f602132",
   "metadata": {},
   "outputs": [
    {
     "data": {
      "text/plain": [
       "'a'"
      ]
     },
     "execution_count": 83,
     "metadata": {},
     "output_type": "execute_result"
    }
   ],
   "source": [
    "s1"
   ]
  },
  {
   "cell_type": "code",
   "execution_count": 84,
   "id": "b5611ba2",
   "metadata": {},
   "outputs": [
    {
     "data": {
      "text/plain": [
       "'b'"
      ]
     },
     "execution_count": 84,
     "metadata": {},
     "output_type": "execute_result"
    }
   ],
   "source": [
    "s2"
   ]
  },
  {
   "cell_type": "code",
   "execution_count": 85,
   "id": "4062706d",
   "metadata": {},
   "outputs": [
    {
     "data": {
      "text/plain": [
       "'c'"
      ]
     },
     "execution_count": 85,
     "metadata": {},
     "output_type": "execute_result"
    }
   ],
   "source": [
    "s3"
   ]
  },
  {
   "cell_type": "markdown",
   "id": "22d7d7cf",
   "metadata": {},
   "source": [
    "### dictionary"
   ]
  },
  {
   "cell_type": "code",
   "execution_count": null,
   "id": "b3bee7a1",
   "metadata": {},
   "outputs": [],
   "source": [
    "data = {\n",
    "    \"name\" : \"brum\",\n",
    "    \"occupation\" : \"data scientist\",\n",
    "    \"age\" : 25\n",
    "}"
   ]
  },
  {
   "cell_type": "code",
   "execution_count": 94,
   "id": "782f8cd7",
   "metadata": {},
   "outputs": [
    {
     "data": {
      "text/plain": [
       "{'name': 'brum', 'occupation': 'data scientist', 'age': 25}"
      ]
     },
     "execution_count": 94,
     "metadata": {},
     "output_type": "execute_result"
    }
   ],
   "source": [
    "data"
   ]
  },
  {
   "cell_type": "code",
   "execution_count": 95,
   "id": "b64f635b",
   "metadata": {
    "scrolled": true
   },
   "outputs": [
    {
     "data": {
      "text/plain": [
       "'brum'"
      ]
     },
     "execution_count": 95,
     "metadata": {},
     "output_type": "execute_result"
    }
   ],
   "source": [
    "data['name']"
   ]
  },
  {
   "cell_type": "code",
   "execution_count": 97,
   "id": "6a7fdfc0",
   "metadata": {},
   "outputs": [],
   "source": [
    "data['gender'] = 'f'"
   ]
  },
  {
   "cell_type": "code",
   "execution_count": 98,
   "id": "f4c6d728",
   "metadata": {},
   "outputs": [
    {
     "data": {
      "text/plain": [
       "{'name': 'brum', 'occupation': 'data scientist', 'age': 25, 'gender': 'f'}"
      ]
     },
     "execution_count": 98,
     "metadata": {},
     "output_type": "execute_result"
    }
   ],
   "source": [
    "data"
   ]
  },
  {
   "cell_type": "code",
   "execution_count": 99,
   "id": "9a746621",
   "metadata": {},
   "outputs": [],
   "source": [
    "data['name'] = 'nana'\n",
    "del data['occupation']"
   ]
  },
  {
   "cell_type": "code",
   "execution_count": 100,
   "id": "06fa3fae",
   "metadata": {},
   "outputs": [
    {
     "data": {
      "text/plain": [
       "{'name': 'nana', 'age': 25, 'gender': 'f'}"
      ]
     },
     "execution_count": 100,
     "metadata": {},
     "output_type": "execute_result"
    }
   ],
   "source": [
    "data"
   ]
  },
  {
   "cell_type": "code",
   "execution_count": 91,
   "id": "b6619047",
   "metadata": {},
   "outputs": [],
   "source": [
    "list_data = [{\n",
    "    \"name\" : \"brum\",\n",
    "    \"occupation\" : \"data scientist\",\n",
    "    \"age\" : 25\n",
    "},\n",
    "{\n",
    "    \"name\" : \"brim\",\n",
    "    \"occupation\" : \"data analyst\",\n",
    "    \"age\" : 25\n",
    "}\n",
    "]"
   ]
  },
  {
   "cell_type": "code",
   "execution_count": 92,
   "id": "2a75cbfc",
   "metadata": {},
   "outputs": [
    {
     "data": {
      "text/plain": [
       "[{'name': 'brum', 'occupation': 'data scientist', 'age': 25},\n",
       " {'name': 'brim', 'occupation': 'data analyst', 'age': 25}]"
      ]
     },
     "execution_count": 92,
     "metadata": {},
     "output_type": "execute_result"
    }
   ],
   "source": [
    "list_data"
   ]
  },
  {
   "cell_type": "code",
   "execution_count": 93,
   "id": "cf2a9e0a",
   "metadata": {},
   "outputs": [
    {
     "data": {
      "text/plain": [
       "list"
      ]
     },
     "execution_count": 93,
     "metadata": {},
     "output_type": "execute_result"
    }
   ],
   "source": [
    "type(list_data)"
   ]
  },
  {
   "cell_type": "code",
   "execution_count": null,
   "id": "cc97d591",
   "metadata": {},
   "outputs": [],
   "source": [
    "data"
   ]
  },
  {
   "cell_type": "code",
   "execution_count": 101,
   "id": "1f5e581b",
   "metadata": {},
   "outputs": [],
   "source": [
    "from collections import defaultdict"
   ]
  },
  {
   "cell_type": "code",
   "execution_count": 102,
   "id": "da7b332f",
   "metadata": {},
   "outputs": [],
   "source": [
    "d = {}\n",
    "default_d = defaultdict(int)"
   ]
  },
  {
   "cell_type": "code",
   "execution_count": 103,
   "id": "d95ca01c",
   "metadata": {},
   "outputs": [],
   "source": [
    "stringgg = \"saya saya dua saya tiga\""
   ]
  },
  {
   "cell_type": "code",
   "execution_count": 105,
   "id": "96c5c215",
   "metadata": {},
   "outputs": [
    {
     "name": "stdout",
     "output_type": "stream",
     "text": [
      "saya\n",
      "saya\n",
      "dua\n",
      "saya\n",
      "tiga\n"
     ]
    }
   ],
   "source": [
    "for i in stringgg.split():\n",
    "    print(i)\n",
    "    if i not in d:\n",
    "        d[i] = 0\n",
    "    d[i] += 1"
   ]
  },
  {
   "cell_type": "code",
   "execution_count": 106,
   "id": "ebd9579e",
   "metadata": {},
   "outputs": [
    {
     "data": {
      "text/plain": [
       "{'saya': 3, 'dua': 1, 'tiga': 1}"
      ]
     },
     "execution_count": 106,
     "metadata": {},
     "output_type": "execute_result"
    }
   ],
   "source": [
    "d"
   ]
  },
  {
   "cell_type": "code",
   "execution_count": 109,
   "id": "fc2648aa",
   "metadata": {},
   "outputs": [],
   "source": [
    "for i in stringgg.split():\n",
    "    default_d[i] += 1"
   ]
  },
  {
   "cell_type": "code",
   "execution_count": 110,
   "id": "ed3134d3",
   "metadata": {},
   "outputs": [
    {
     "data": {
      "text/plain": [
       "defaultdict(int, {'saya': 3, 'dua': 1, 'tiga': 1})"
      ]
     },
     "execution_count": 110,
     "metadata": {},
     "output_type": "execute_result"
    }
   ],
   "source": [
    "default_d"
   ]
  },
  {
   "cell_type": "code",
   "execution_count": null,
   "id": "8cca8da2",
   "metadata": {},
   "outputs": [],
   "source": []
  }
 ],
 "metadata": {
  "kernelspec": {
   "display_name": "Python 3",
   "language": "python",
   "name": "python3"
  },
  "language_info": {
   "codemirror_mode": {
    "name": "ipython",
    "version": 3
   },
   "file_extension": ".py",
   "mimetype": "text/x-python",
   "name": "python",
   "nbconvert_exporter": "python",
   "pygments_lexer": "ipython3",
   "version": "3.8.8"
  }
 },
 "nbformat": 4,
 "nbformat_minor": 5
}

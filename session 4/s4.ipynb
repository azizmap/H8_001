{
 "cells": [
  {
   "cell_type": "markdown",
   "id": "ce01ca26",
   "metadata": {},
   "source": [
    "# Numpy"
   ]
  },
  {
   "cell_type": "code",
   "execution_count": 1,
   "id": "a5e1aea9",
   "metadata": {},
   "outputs": [],
   "source": [
    "import numpy as np"
   ]
  },
  {
   "cell_type": "markdown",
   "id": "3b52892b",
   "metadata": {},
   "source": [
    "## creating an array"
   ]
  },
  {
   "cell_type": "code",
   "execution_count": 2,
   "id": "932c39fa",
   "metadata": {},
   "outputs": [],
   "source": [
    "x = [1,2,3]"
   ]
  },
  {
   "cell_type": "code",
   "execution_count": 3,
   "id": "a1f55521",
   "metadata": {},
   "outputs": [],
   "source": [
    "x_np = np.array(x)"
   ]
  },
  {
   "cell_type": "code",
   "execution_count": 4,
   "id": "3dbaccb9",
   "metadata": {},
   "outputs": [
    {
     "data": {
      "text/plain": [
       "list"
      ]
     },
     "execution_count": 4,
     "metadata": {},
     "output_type": "execute_result"
    }
   ],
   "source": [
    "type(x)"
   ]
  },
  {
   "cell_type": "code",
   "execution_count": 5,
   "id": "54d4d4bb",
   "metadata": {},
   "outputs": [
    {
     "data": {
      "text/plain": [
       "numpy.ndarray"
      ]
     },
     "execution_count": 5,
     "metadata": {},
     "output_type": "execute_result"
    }
   ],
   "source": [
    "type(x_np)"
   ]
  },
  {
   "cell_type": "code",
   "execution_count": 6,
   "id": "7d9faf15",
   "metadata": {},
   "outputs": [
    {
     "data": {
      "text/plain": [
       "[1, 2, 3]"
      ]
     },
     "execution_count": 6,
     "metadata": {},
     "output_type": "execute_result"
    }
   ],
   "source": [
    "x"
   ]
  },
  {
   "cell_type": "code",
   "execution_count": 7,
   "id": "301f1185",
   "metadata": {},
   "outputs": [
    {
     "data": {
      "text/plain": [
       "array([1, 2, 3])"
      ]
     },
     "execution_count": 7,
     "metadata": {},
     "output_type": "execute_result"
    }
   ],
   "source": [
    "x_np"
   ]
  },
  {
   "cell_type": "code",
   "execution_count": 8,
   "id": "13eb7be5",
   "metadata": {},
   "outputs": [],
   "source": [
    "z = np.zeros(6)"
   ]
  },
  {
   "cell_type": "code",
   "execution_count": 9,
   "id": "0717b053",
   "metadata": {},
   "outputs": [
    {
     "data": {
      "text/plain": [
       "array([0., 0., 0., 0., 0., 0.])"
      ]
     },
     "execution_count": 9,
     "metadata": {},
     "output_type": "execute_result"
    }
   ],
   "source": [
    "z"
   ]
  },
  {
   "cell_type": "code",
   "execution_count": 10,
   "id": "376031da",
   "metadata": {},
   "outputs": [],
   "source": [
    "o = np.ones(6)"
   ]
  },
  {
   "cell_type": "code",
   "execution_count": 11,
   "id": "c6b1fd5b",
   "metadata": {},
   "outputs": [
    {
     "data": {
      "text/plain": [
       "array([1., 1., 1., 1., 1., 1.])"
      ]
     },
     "execution_count": 11,
     "metadata": {},
     "output_type": "execute_result"
    }
   ],
   "source": [
    "o"
   ]
  },
  {
   "cell_type": "code",
   "execution_count": 12,
   "id": "27ea5f54",
   "metadata": {},
   "outputs": [],
   "source": [
    "e = np.empty(6)"
   ]
  },
  {
   "cell_type": "code",
   "execution_count": 13,
   "id": "a777ab43",
   "metadata": {},
   "outputs": [
    {
     "data": {
      "text/plain": [
       "array([1., 1., 1., 1., 1., 1.])"
      ]
     },
     "execution_count": 13,
     "metadata": {},
     "output_type": "execute_result"
    }
   ],
   "source": [
    "e"
   ]
  },
  {
   "cell_type": "code",
   "execution_count": 14,
   "id": "251490d2",
   "metadata": {},
   "outputs": [
    {
     "name": "stdout",
     "output_type": "stream",
     "text": [
      "[0 1 2 3 4 5]\n",
      "[1 3 5 7]\n"
     ]
    }
   ],
   "source": [
    "print(np.arange(0,6))\n",
    "print(np.arange(1,8,2))"
   ]
  },
  {
   "cell_type": "code",
   "execution_count": 15,
   "id": "992c4ce7",
   "metadata": {},
   "outputs": [
    {
     "name": "stdout",
     "output_type": "stream",
     "text": [
      "1\n",
      "3\n",
      "5\n",
      "7\n",
      "9\n"
     ]
    }
   ],
   "source": [
    "for i in np.arange(1,10,2):\n",
    "    print(i)"
   ]
  },
  {
   "cell_type": "markdown",
   "id": "ffe524be",
   "metadata": {},
   "source": [
    "## add, remove, sort"
   ]
  },
  {
   "cell_type": "code",
   "execution_count": 16,
   "id": "6ab284d3",
   "metadata": {},
   "outputs": [],
   "source": [
    "x = np.array([1,2,3])"
   ]
  },
  {
   "cell_type": "code",
   "execution_count": 17,
   "id": "2c761f51",
   "metadata": {},
   "outputs": [],
   "source": [
    "y = np.array([4,5])"
   ]
  },
  {
   "cell_type": "code",
   "execution_count": 18,
   "id": "4d559180",
   "metadata": {},
   "outputs": [
    {
     "data": {
      "text/plain": [
       "array([1, 2, 3, 4, 5])"
      ]
     },
     "execution_count": 18,
     "metadata": {},
     "output_type": "execute_result"
    }
   ],
   "source": [
    "np.append(x,y)"
   ]
  },
  {
   "cell_type": "code",
   "execution_count": 19,
   "id": "4b4f16fa",
   "metadata": {},
   "outputs": [
    {
     "data": {
      "text/plain": [
       "array([1, 3])"
      ]
     },
     "execution_count": 19,
     "metadata": {},
     "output_type": "execute_result"
    }
   ],
   "source": [
    "np.delete(x,1)"
   ]
  },
  {
   "cell_type": "code",
   "execution_count": 20,
   "id": "87225591",
   "metadata": {},
   "outputs": [],
   "source": [
    "x = np.array([2,6,3,7,4,8,3,6,4])"
   ]
  },
  {
   "cell_type": "code",
   "execution_count": 21,
   "id": "9ebd59ab",
   "metadata": {},
   "outputs": [
    {
     "data": {
      "text/plain": [
       "array([2, 3, 3, 4, 4, 6, 6, 7, 8])"
      ]
     },
     "execution_count": 21,
     "metadata": {},
     "output_type": "execute_result"
    }
   ],
   "source": [
    "np.sort(x)"
   ]
  },
  {
   "cell_type": "code",
   "execution_count": 22,
   "id": "a986d240",
   "metadata": {},
   "outputs": [
    {
     "data": {
      "text/plain": [
       "array([8, 7, 6, 6, 4, 4, 3, 3, 2])"
      ]
     },
     "execution_count": 22,
     "metadata": {},
     "output_type": "execute_result"
    }
   ],
   "source": [
    "-np.sort(-x)"
   ]
  },
  {
   "cell_type": "markdown",
   "id": "9387fc81",
   "metadata": {},
   "source": [
    "## shape and size"
   ]
  },
  {
   "cell_type": "code",
   "execution_count": 23,
   "id": "d05df63c",
   "metadata": {},
   "outputs": [
    {
     "data": {
      "text/plain": [
       "(9,)"
      ]
     },
     "execution_count": 23,
     "metadata": {},
     "output_type": "execute_result"
    }
   ],
   "source": [
    "x.shape"
   ]
  },
  {
   "cell_type": "code",
   "execution_count": 24,
   "id": "2620eb7a",
   "metadata": {},
   "outputs": [
    {
     "data": {
      "text/plain": [
       "1"
      ]
     },
     "execution_count": 24,
     "metadata": {},
     "output_type": "execute_result"
    }
   ],
   "source": [
    "x.ndim"
   ]
  },
  {
   "cell_type": "code",
   "execution_count": 25,
   "id": "f518f2c6",
   "metadata": {},
   "outputs": [
    {
     "data": {
      "text/plain": [
       "9"
      ]
     },
     "execution_count": 25,
     "metadata": {},
     "output_type": "execute_result"
    }
   ],
   "source": [
    "x.size"
   ]
  },
  {
   "cell_type": "code",
   "execution_count": 26,
   "id": "99700f08",
   "metadata": {},
   "outputs": [],
   "source": [
    "y = np.array([[1,2],[3,4]])"
   ]
  },
  {
   "cell_type": "code",
   "execution_count": 27,
   "id": "f6075db5",
   "metadata": {},
   "outputs": [
    {
     "data": {
      "text/plain": [
       "(2, 2)"
      ]
     },
     "execution_count": 27,
     "metadata": {},
     "output_type": "execute_result"
    }
   ],
   "source": [
    "y.shape"
   ]
  },
  {
   "cell_type": "code",
   "execution_count": 28,
   "id": "ce150c8b",
   "metadata": {},
   "outputs": [
    {
     "data": {
      "text/plain": [
       "2"
      ]
     },
     "execution_count": 28,
     "metadata": {},
     "output_type": "execute_result"
    }
   ],
   "source": [
    "y.ndim"
   ]
  },
  {
   "cell_type": "code",
   "execution_count": 29,
   "id": "2026e459",
   "metadata": {},
   "outputs": [
    {
     "data": {
      "text/plain": [
       "4"
      ]
     },
     "execution_count": 29,
     "metadata": {},
     "output_type": "execute_result"
    }
   ],
   "source": [
    "y.size"
   ]
  },
  {
   "cell_type": "markdown",
   "id": "ea799573",
   "metadata": {},
   "source": [
    "## reshape"
   ]
  },
  {
   "cell_type": "code",
   "execution_count": 30,
   "id": "3375c98e",
   "metadata": {},
   "outputs": [],
   "source": [
    "z = np.array([[1,2],[3,4],[5,6]])"
   ]
  },
  {
   "cell_type": "code",
   "execution_count": 31,
   "id": "eac5c2ae",
   "metadata": {},
   "outputs": [
    {
     "data": {
      "text/plain": [
       "array([[1, 2],\n",
       "       [3, 4],\n",
       "       [5, 6]])"
      ]
     },
     "execution_count": 31,
     "metadata": {},
     "output_type": "execute_result"
    }
   ],
   "source": [
    "z"
   ]
  },
  {
   "cell_type": "code",
   "execution_count": 32,
   "id": "49ef787d",
   "metadata": {},
   "outputs": [
    {
     "data": {
      "text/plain": [
       "(3, 2)"
      ]
     },
     "execution_count": 32,
     "metadata": {},
     "output_type": "execute_result"
    }
   ],
   "source": [
    "z.shape"
   ]
  },
  {
   "cell_type": "code",
   "execution_count": 33,
   "id": "f98ce24d",
   "metadata": {},
   "outputs": [
    {
     "data": {
      "text/plain": [
       "array([[1, 2, 3],\n",
       "       [4, 5, 6]])"
      ]
     },
     "execution_count": 33,
     "metadata": {},
     "output_type": "execute_result"
    }
   ],
   "source": [
    "np.reshape(z,(2,3))"
   ]
  },
  {
   "cell_type": "code",
   "execution_count": 34,
   "id": "e26e7f46",
   "metadata": {},
   "outputs": [
    {
     "data": {
      "text/plain": [
       "array([[1, 2, 3],\n",
       "       [4, 5, 6]])"
      ]
     },
     "execution_count": 34,
     "metadata": {},
     "output_type": "execute_result"
    }
   ],
   "source": [
    "z.reshape(2,3)"
   ]
  },
  {
   "cell_type": "markdown",
   "id": "3a3e3c0b",
   "metadata": {},
   "source": [
    "## dimention manipulation"
   ]
  },
  {
   "cell_type": "code",
   "execution_count": 35,
   "id": "943a76e9",
   "metadata": {},
   "outputs": [],
   "source": [
    "a = np.arange(0,6)"
   ]
  },
  {
   "cell_type": "code",
   "execution_count": 36,
   "id": "fbc0a26b",
   "metadata": {},
   "outputs": [
    {
     "data": {
      "text/plain": [
       "array([0, 1, 2, 3, 4, 5])"
      ]
     },
     "execution_count": 36,
     "metadata": {},
     "output_type": "execute_result"
    }
   ],
   "source": [
    "a"
   ]
  },
  {
   "cell_type": "code",
   "execution_count": 37,
   "id": "a5636004",
   "metadata": {},
   "outputs": [
    {
     "data": {
      "text/plain": [
       "(6,)"
      ]
     },
     "execution_count": 37,
     "metadata": {},
     "output_type": "execute_result"
    }
   ],
   "source": [
    "a.shape"
   ]
  },
  {
   "cell_type": "code",
   "execution_count": 38,
   "id": "80b22b48",
   "metadata": {},
   "outputs": [
    {
     "data": {
      "text/plain": [
       "array([[0, 1, 2, 3, 4, 5]])"
      ]
     },
     "execution_count": 38,
     "metadata": {},
     "output_type": "execute_result"
    }
   ],
   "source": [
    "a.reshape(1,6)"
   ]
  },
  {
   "cell_type": "code",
   "execution_count": 39,
   "id": "272e6b53",
   "metadata": {},
   "outputs": [
    {
     "data": {
      "text/plain": [
       "(1, 6)"
      ]
     },
     "execution_count": 39,
     "metadata": {},
     "output_type": "execute_result"
    }
   ],
   "source": [
    "a[np.newaxis].shape"
   ]
  },
  {
   "cell_type": "code",
   "execution_count": 40,
   "id": "ea3667fd",
   "metadata": {},
   "outputs": [
    {
     "data": {
      "text/plain": [
       "(1, 6)"
      ]
     },
     "execution_count": 40,
     "metadata": {},
     "output_type": "execute_result"
    }
   ],
   "source": [
    "a[np.newaxis,:].shape"
   ]
  },
  {
   "cell_type": "code",
   "execution_count": 41,
   "id": "0d047697",
   "metadata": {},
   "outputs": [
    {
     "data": {
      "text/plain": [
       "(6, 1)"
      ]
     },
     "execution_count": 41,
     "metadata": {},
     "output_type": "execute_result"
    }
   ],
   "source": [
    "a[:,np.newaxis].shape"
   ]
  },
  {
   "cell_type": "code",
   "execution_count": 42,
   "id": "04ef0ded",
   "metadata": {},
   "outputs": [
    {
     "data": {
      "text/plain": [
       "array([0, 1, 2, 3, 4, 5])"
      ]
     },
     "execution_count": 42,
     "metadata": {},
     "output_type": "execute_result"
    }
   ],
   "source": [
    "a[:]"
   ]
  },
  {
   "cell_type": "code",
   "execution_count": 43,
   "id": "79de5020",
   "metadata": {},
   "outputs": [
    {
     "data": {
      "text/plain": [
       "array([[0],\n",
       "       [1],\n",
       "       [2],\n",
       "       [3],\n",
       "       [4],\n",
       "       [5]])"
      ]
     },
     "execution_count": 43,
     "metadata": {},
     "output_type": "execute_result"
    }
   ],
   "source": [
    "np.expand_dims(a,axis=1)"
   ]
  },
  {
   "cell_type": "code",
   "execution_count": 44,
   "id": "34ff38c2",
   "metadata": {},
   "outputs": [
    {
     "data": {
      "text/plain": [
       "(3, 2)"
      ]
     },
     "execution_count": 44,
     "metadata": {},
     "output_type": "execute_result"
    }
   ],
   "source": [
    "z.shape"
   ]
  },
  {
   "cell_type": "code",
   "execution_count": 49,
   "id": "05712afc",
   "metadata": {},
   "outputs": [
    {
     "data": {
      "text/plain": [
       "(1, 3, 2)"
      ]
     },
     "execution_count": 49,
     "metadata": {},
     "output_type": "execute_result"
    }
   ],
   "source": [
    "np.expand_dims(z,axis=0).shape"
   ]
  },
  {
   "cell_type": "code",
   "execution_count": 50,
   "id": "2c4519a0",
   "metadata": {},
   "outputs": [
    {
     "data": {
      "text/plain": [
       "(3, 1, 2)"
      ]
     },
     "execution_count": 50,
     "metadata": {},
     "output_type": "execute_result"
    }
   ],
   "source": [
    "np.expand_dims(z,axis=1).shape"
   ]
  },
  {
   "cell_type": "markdown",
   "id": "3e919dd6",
   "metadata": {},
   "source": [
    "## indexing and slicing"
   ]
  },
  {
   "cell_type": "markdown",
   "id": "6552fc25",
   "metadata": {},
   "source": [
    "### slincing array"
   ]
  },
  {
   "cell_type": "code",
   "execution_count": 51,
   "id": "22b01295",
   "metadata": {},
   "outputs": [],
   "source": [
    "x = [1,2,3,4]"
   ]
  },
  {
   "cell_type": "code",
   "execution_count": 52,
   "id": "fc115b5c",
   "metadata": {},
   "outputs": [
    {
     "data": {
      "text/plain": [
       "[2, 3, 4]"
      ]
     },
     "execution_count": 52,
     "metadata": {},
     "output_type": "execute_result"
    }
   ],
   "source": [
    "x[1:]"
   ]
  },
  {
   "cell_type": "code",
   "execution_count": 53,
   "id": "04d68c44",
   "metadata": {},
   "outputs": [],
   "source": [
    "num = np.arange(1,11)"
   ]
  },
  {
   "cell_type": "code",
   "execution_count": 54,
   "id": "5645a50e",
   "metadata": {},
   "outputs": [
    {
     "data": {
      "text/plain": [
       "array([ 1,  2,  3,  4,  5,  6,  7,  8,  9, 10])"
      ]
     },
     "execution_count": 54,
     "metadata": {},
     "output_type": "execute_result"
    }
   ],
   "source": [
    "num"
   ]
  },
  {
   "cell_type": "code",
   "execution_count": 55,
   "id": "e4f06081",
   "metadata": {},
   "outputs": [
    {
     "data": {
      "text/plain": [
       "array([ 7,  8,  9, 10])"
      ]
     },
     "execution_count": 55,
     "metadata": {},
     "output_type": "execute_result"
    }
   ],
   "source": [
    "num[6:]"
   ]
  },
  {
   "cell_type": "code",
   "execution_count": 56,
   "id": "1d03e115",
   "metadata": {},
   "outputs": [
    {
     "data": {
      "text/plain": [
       "array([1, 2, 3, 4, 5])"
      ]
     },
     "execution_count": 56,
     "metadata": {},
     "output_type": "execute_result"
    }
   ],
   "source": [
    "num[:5]"
   ]
  },
  {
   "cell_type": "code",
   "execution_count": 59,
   "id": "addcfd64",
   "metadata": {},
   "outputs": [
    {
     "data": {
      "text/plain": [
       "array([ 7,  8,  9, 10])"
      ]
     },
     "execution_count": 59,
     "metadata": {},
     "output_type": "execute_result"
    }
   ],
   "source": [
    "num[-4:]"
   ]
  },
  {
   "cell_type": "markdown",
   "id": "f494662f",
   "metadata": {},
   "source": [
    "### slicing multi dimention array"
   ]
  },
  {
   "cell_type": "code",
   "execution_count": 63,
   "id": "fc9e7949",
   "metadata": {},
   "outputs": [],
   "source": [
    "sample = np.array([[1,2],[3,4]])"
   ]
  },
  {
   "cell_type": "code",
   "execution_count": 66,
   "id": "f748b778",
   "metadata": {},
   "outputs": [
    {
     "data": {
      "text/plain": [
       "array([[1, 2],\n",
       "       [3, 4]])"
      ]
     },
     "execution_count": 66,
     "metadata": {},
     "output_type": "execute_result"
    }
   ],
   "source": [
    "sample"
   ]
  },
  {
   "cell_type": "code",
   "execution_count": 70,
   "id": "11ffbb65",
   "metadata": {},
   "outputs": [
    {
     "data": {
      "text/plain": [
       "array([[1, 2]])"
      ]
     },
     "execution_count": 70,
     "metadata": {},
     "output_type": "execute_result"
    }
   ],
   "source": [
    "sample[:1]"
   ]
  },
  {
   "cell_type": "code",
   "execution_count": 72,
   "id": "176886b9",
   "metadata": {},
   "outputs": [
    {
     "data": {
      "text/plain": [
       "array([1, 3])"
      ]
     },
     "execution_count": 72,
     "metadata": {},
     "output_type": "execute_result"
    }
   ],
   "source": [
    "sample[:,0]"
   ]
  },
  {
   "cell_type": "code",
   "execution_count": 76,
   "id": "ed2fa033",
   "metadata": {},
   "outputs": [
    {
     "data": {
      "text/plain": [
       "array([1, 2])"
      ]
     },
     "execution_count": 76,
     "metadata": {},
     "output_type": "execute_result"
    }
   ],
   "source": [
    "sample[0,:]"
   ]
  },
  {
   "cell_type": "markdown",
   "id": "b3405116",
   "metadata": {},
   "source": [
    "### slicing by condition"
   ]
  },
  {
   "cell_type": "code",
   "execution_count": 77,
   "id": "9ef70c6a",
   "metadata": {},
   "outputs": [
    {
     "data": {
      "text/plain": [
       "array([ 1,  2,  3,  4,  5,  6,  7,  8,  9, 10])"
      ]
     },
     "execution_count": 77,
     "metadata": {},
     "output_type": "execute_result"
    }
   ],
   "source": [
    "num"
   ]
  },
  {
   "cell_type": "code",
   "execution_count": 78,
   "id": "5b1b738c",
   "metadata": {},
   "outputs": [
    {
     "data": {
      "text/plain": [
       "array([ 4,  5,  6,  7,  8,  9, 10])"
      ]
     },
     "execution_count": 78,
     "metadata": {},
     "output_type": "execute_result"
    }
   ],
   "source": [
    "num[num>3]"
   ]
  },
  {
   "cell_type": "code",
   "execution_count": 80,
   "id": "8b5dbeae",
   "metadata": {},
   "outputs": [
    {
     "data": {
      "text/plain": [
       "array([ 6,  8, 10])"
      ]
     },
     "execution_count": 80,
     "metadata": {},
     "output_type": "execute_result"
    }
   ],
   "source": [
    "condition = ((num % 2 == 0) & (num>5))\n",
    "num[condition]"
   ]
  },
  {
   "cell_type": "markdown",
   "id": "cce441a8",
   "metadata": {},
   "source": [
    "### creating array from existing data"
   ]
  },
  {
   "cell_type": "code",
   "execution_count": 82,
   "id": "55c7a7f8",
   "metadata": {},
   "outputs": [],
   "source": [
    "a = np.array([1,2,3])\n",
    "b = np.array([4,5,6])"
   ]
  },
  {
   "cell_type": "code",
   "execution_count": 84,
   "id": "fc8cb87f",
   "metadata": {},
   "outputs": [
    {
     "data": {
      "text/plain": [
       "(2, 3)"
      ]
     },
     "execution_count": 84,
     "metadata": {},
     "output_type": "execute_result"
    }
   ],
   "source": [
    "np.vstack((a,b)).shape"
   ]
  },
  {
   "cell_type": "code",
   "execution_count": 85,
   "id": "df83cc6d",
   "metadata": {},
   "outputs": [
    {
     "data": {
      "text/plain": [
       "(6,)"
      ]
     },
     "execution_count": 85,
     "metadata": {},
     "output_type": "execute_result"
    }
   ],
   "source": [
    "np.hstack((a,b)).shape"
   ]
  },
  {
   "cell_type": "code",
   "execution_count": 90,
   "id": "5f60e143",
   "metadata": {},
   "outputs": [],
   "source": [
    "c = np.arange(1,19).reshape(2,9)"
   ]
  },
  {
   "cell_type": "code",
   "execution_count": 91,
   "id": "8508cfc6",
   "metadata": {},
   "outputs": [
    {
     "data": {
      "text/plain": [
       "array([[ 1,  2,  3,  4,  5,  6,  7,  8,  9],\n",
       "       [10, 11, 12, 13, 14, 15, 16, 17, 18]])"
      ]
     },
     "execution_count": 91,
     "metadata": {},
     "output_type": "execute_result"
    }
   ],
   "source": [
    "c"
   ]
  },
  {
   "cell_type": "code",
   "execution_count": 96,
   "id": "e8bc9caf",
   "metadata": {},
   "outputs": [
    {
     "data": {
      "text/plain": [
       "[array([[ 1,  2,  3],\n",
       "        [10, 11, 12]]),\n",
       " array([[ 4,  5,  6],\n",
       "        [13, 14, 15]]),\n",
       " array([[ 7,  8,  9],\n",
       "        [16, 17, 18]])]"
      ]
     },
     "execution_count": 96,
     "metadata": {},
     "output_type": "execute_result"
    }
   ],
   "source": [
    "np.hsplit(c,3)"
   ]
  },
  {
   "cell_type": "code",
   "execution_count": 97,
   "id": "7eea2630",
   "metadata": {},
   "outputs": [],
   "source": [
    "d = a"
   ]
  },
  {
   "cell_type": "code",
   "execution_count": 98,
   "id": "1e48a457",
   "metadata": {},
   "outputs": [],
   "source": [
    "e = a.view()"
   ]
  },
  {
   "cell_type": "code",
   "execution_count": 99,
   "id": "a9bb9168",
   "metadata": {},
   "outputs": [
    {
     "data": {
      "text/plain": [
       "array([1, 2, 3])"
      ]
     },
     "execution_count": 99,
     "metadata": {},
     "output_type": "execute_result"
    }
   ],
   "source": [
    "d"
   ]
  },
  {
   "cell_type": "code",
   "execution_count": 100,
   "id": "fff12f4d",
   "metadata": {},
   "outputs": [
    {
     "data": {
      "text/plain": [
       "array([1, 2, 3])"
      ]
     },
     "execution_count": 100,
     "metadata": {},
     "output_type": "execute_result"
    }
   ],
   "source": [
    "a"
   ]
  },
  {
   "cell_type": "code",
   "execution_count": 101,
   "id": "76ac3139",
   "metadata": {},
   "outputs": [],
   "source": [
    "d[0] = 10"
   ]
  },
  {
   "cell_type": "code",
   "execution_count": 102,
   "id": "5f64b0c7",
   "metadata": {},
   "outputs": [
    {
     "data": {
      "text/plain": [
       "array([10,  2,  3])"
      ]
     },
     "execution_count": 102,
     "metadata": {},
     "output_type": "execute_result"
    }
   ],
   "source": [
    "d"
   ]
  },
  {
   "cell_type": "code",
   "execution_count": 103,
   "id": "49927196",
   "metadata": {},
   "outputs": [
    {
     "data": {
      "text/plain": [
       "array([10,  2,  3])"
      ]
     },
     "execution_count": 103,
     "metadata": {},
     "output_type": "execute_result"
    }
   ],
   "source": [
    "a"
   ]
  },
  {
   "cell_type": "code",
   "execution_count": 104,
   "id": "cf8a5df7",
   "metadata": {},
   "outputs": [],
   "source": [
    "f = b.copy()"
   ]
  },
  {
   "cell_type": "code",
   "execution_count": 105,
   "id": "e4cd8317",
   "metadata": {},
   "outputs": [
    {
     "data": {
      "text/plain": [
       "array([4, 5, 6])"
      ]
     },
     "execution_count": 105,
     "metadata": {},
     "output_type": "execute_result"
    }
   ],
   "source": [
    "f"
   ]
  },
  {
   "cell_type": "code",
   "execution_count": 106,
   "id": "5e84646c",
   "metadata": {},
   "outputs": [],
   "source": [
    "f[0] = 10"
   ]
  },
  {
   "cell_type": "code",
   "execution_count": 107,
   "id": "6cb9c927",
   "metadata": {},
   "outputs": [
    {
     "data": {
      "text/plain": [
       "array([10,  5,  6])"
      ]
     },
     "execution_count": 107,
     "metadata": {},
     "output_type": "execute_result"
    }
   ],
   "source": [
    "f"
   ]
  },
  {
   "cell_type": "code",
   "execution_count": 108,
   "id": "8cd8a1b1",
   "metadata": {},
   "outputs": [
    {
     "data": {
      "text/plain": [
       "array([4, 5, 6])"
      ]
     },
     "execution_count": 108,
     "metadata": {},
     "output_type": "execute_result"
    }
   ],
   "source": [
    "b"
   ]
  },
  {
   "cell_type": "markdown",
   "id": "72306f65",
   "metadata": {},
   "source": [
    "## array operations"
   ]
  },
  {
   "cell_type": "code",
   "execution_count": 111,
   "id": "e87906d1",
   "metadata": {},
   "outputs": [],
   "source": [
    "a = np.array([[1,2],[3,4]])\n",
    "b = np.array([[2,2],[2,2]])"
   ]
  },
  {
   "cell_type": "code",
   "execution_count": 112,
   "id": "a59488a3",
   "metadata": {},
   "outputs": [
    {
     "data": {
      "text/plain": [
       "array([[3, 4],\n",
       "       [5, 6]])"
      ]
     },
     "execution_count": 112,
     "metadata": {},
     "output_type": "execute_result"
    }
   ],
   "source": [
    "a + b"
   ]
  },
  {
   "cell_type": "code",
   "execution_count": 113,
   "id": "babf0a2a",
   "metadata": {},
   "outputs": [
    {
     "data": {
      "text/plain": [
       "array([[2, 4],\n",
       "       [6, 8]])"
      ]
     },
     "execution_count": 113,
     "metadata": {},
     "output_type": "execute_result"
    }
   ],
   "source": [
    "a * b"
   ]
  },
  {
   "cell_type": "code",
   "execution_count": 114,
   "id": "e54259f0",
   "metadata": {},
   "outputs": [
    {
     "data": {
      "text/plain": [
       "array([[0.5, 1. ],\n",
       "       [1.5, 2. ]])"
      ]
     },
     "execution_count": 114,
     "metadata": {},
     "output_type": "execute_result"
    }
   ],
   "source": [
    "a/b"
   ]
  },
  {
   "cell_type": "code",
   "execution_count": 115,
   "id": "fd7b6c3c",
   "metadata": {},
   "outputs": [],
   "source": [
    "data = np.array([[1,2,3],\n",
    "                 [3,4,5],\n",
    "                [4,5,6]])"
   ]
  },
  {
   "cell_type": "code",
   "execution_count": 116,
   "id": "2eb6b747",
   "metadata": {},
   "outputs": [
    {
     "data": {
      "text/plain": [
       "array([[1, 2, 3],\n",
       "       [3, 4, 5],\n",
       "       [4, 5, 6]])"
      ]
     },
     "execution_count": 116,
     "metadata": {},
     "output_type": "execute_result"
    }
   ],
   "source": [
    "data"
   ]
  },
  {
   "cell_type": "code",
   "execution_count": 117,
   "id": "68a9db81",
   "metadata": {},
   "outputs": [
    {
     "data": {
      "text/plain": [
       "(3, 3)"
      ]
     },
     "execution_count": 117,
     "metadata": {},
     "output_type": "execute_result"
    }
   ],
   "source": [
    "data.shape"
   ]
  },
  {
   "cell_type": "code",
   "execution_count": 119,
   "id": "6412744c",
   "metadata": {},
   "outputs": [
    {
     "data": {
      "text/plain": [
       "array([ 6, 12, 15])"
      ]
     },
     "execution_count": 119,
     "metadata": {},
     "output_type": "execute_result"
    }
   ],
   "source": [
    "data.sum(axis=1)"
   ]
  },
  {
   "cell_type": "code",
   "execution_count": 120,
   "id": "81edba48",
   "metadata": {},
   "outputs": [
    {
     "data": {
      "text/plain": [
       "array([ 8, 11, 14])"
      ]
     },
     "execution_count": 120,
     "metadata": {},
     "output_type": "execute_result"
    }
   ],
   "source": [
    "data.sum(axis=0)"
   ]
  },
  {
   "cell_type": "code",
   "execution_count": 121,
   "id": "5f94bf0b",
   "metadata": {},
   "outputs": [
    {
     "data": {
      "text/plain": [
       "array([2.66666667, 3.66666667, 4.66666667])"
      ]
     },
     "execution_count": 121,
     "metadata": {},
     "output_type": "execute_result"
    }
   ],
   "source": [
    "data.mean(axis=0)"
   ]
  },
  {
   "cell_type": "code",
   "execution_count": 124,
   "id": "65ee41e5",
   "metadata": {},
   "outputs": [
    {
     "data": {
      "text/plain": [
       "array([3., 4., 5.])"
      ]
     },
     "execution_count": 124,
     "metadata": {},
     "output_type": "execute_result"
    }
   ],
   "source": [
    "np.median(data,axis=0)"
   ]
  },
  {
   "cell_type": "code",
   "execution_count": 125,
   "id": "c56dae28",
   "metadata": {},
   "outputs": [
    {
     "data": {
      "text/plain": [
       "array([[2., 3., 4.],\n",
       "       [4., 5., 6.],\n",
       "       [5., 6., 7.]])"
      ]
     },
     "execution_count": 125,
     "metadata": {},
     "output_type": "execute_result"
    }
   ],
   "source": [
    "data + np.ones((3,3))"
   ]
  },
  {
   "cell_type": "markdown",
   "id": "25e4a7c8",
   "metadata": {},
   "source": [
    "## broadcasting"
   ]
  },
  {
   "cell_type": "code",
   "execution_count": 126,
   "id": "e8d00faf",
   "metadata": {},
   "outputs": [
    {
     "data": {
      "text/plain": [
       "array([[3, 4, 5],\n",
       "       [5, 6, 7],\n",
       "       [6, 7, 8]])"
      ]
     },
     "execution_count": 126,
     "metadata": {},
     "output_type": "execute_result"
    }
   ],
   "source": [
    "data + 2"
   ]
  },
  {
   "cell_type": "code",
   "execution_count": 131,
   "id": "7f617434",
   "metadata": {},
   "outputs": [
    {
     "data": {
      "text/plain": [
       "1"
      ]
     },
     "execution_count": 131,
     "metadata": {},
     "output_type": "execute_result"
    }
   ],
   "source": [
    "data.min()"
   ]
  },
  {
   "cell_type": "code",
   "execution_count": 132,
   "id": "641bcc2f",
   "metadata": {},
   "outputs": [
    {
     "data": {
      "text/plain": [
       "6"
      ]
     },
     "execution_count": 132,
     "metadata": {},
     "output_type": "execute_result"
    }
   ],
   "source": [
    "data.max()"
   ]
  },
  {
   "cell_type": "code",
   "execution_count": 133,
   "id": "b5dbe001",
   "metadata": {},
   "outputs": [
    {
     "data": {
      "text/plain": [
       "array([1, 2, 3])"
      ]
     },
     "execution_count": 133,
     "metadata": {},
     "output_type": "execute_result"
    }
   ],
   "source": [
    "data.min(axis=0)"
   ]
  },
  {
   "cell_type": "code",
   "execution_count": 134,
   "id": "040b8db0",
   "metadata": {},
   "outputs": [
    {
     "data": {
      "text/plain": [
       "array([3, 5, 6])"
      ]
     },
     "execution_count": 134,
     "metadata": {},
     "output_type": "execute_result"
    }
   ],
   "source": [
    "data.max(axis=1)"
   ]
  },
  {
   "cell_type": "markdown",
   "id": "ed05ba94",
   "metadata": {},
   "source": [
    "## Matrix"
   ]
  },
  {
   "cell_type": "code",
   "execution_count": 135,
   "id": "4654bbd7",
   "metadata": {},
   "outputs": [],
   "source": [
    "m = np.random.random((3,3))"
   ]
  },
  {
   "cell_type": "code",
   "execution_count": 136,
   "id": "a2ebddf6",
   "metadata": {},
   "outputs": [
    {
     "data": {
      "text/plain": [
       "array([[0.46731526, 0.6669075 , 0.90798416],\n",
       "       [0.48449454, 0.3740212 , 0.48061561],\n",
       "       [0.62945538, 0.64893253, 0.07702239]])"
      ]
     },
     "execution_count": 136,
     "metadata": {},
     "output_type": "execute_result"
    }
   ],
   "source": [
    "m"
   ]
  },
  {
   "cell_type": "code",
   "execution_count": 143,
   "id": "0eb2b5c9",
   "metadata": {},
   "outputs": [],
   "source": [
    "a = np.array([[1,2],[3,4]])\n",
    "b = np.array([[2,5],[2,3]])"
   ]
  },
  {
   "cell_type": "code",
   "execution_count": 144,
   "id": "b1498acb",
   "metadata": {},
   "outputs": [
    {
     "data": {
      "text/plain": [
       "array([[ 6, 11],\n",
       "       [14, 27]])"
      ]
     },
     "execution_count": 144,
     "metadata": {},
     "output_type": "execute_result"
    }
   ],
   "source": [
    "np.dot(a,b)"
   ]
  },
  {
   "cell_type": "code",
   "execution_count": 145,
   "id": "8b9b634f",
   "metadata": {},
   "outputs": [
    {
     "data": {
      "text/plain": [
       "array([[12,  8],\n",
       "       [26, 18]])"
      ]
     },
     "execution_count": 145,
     "metadata": {},
     "output_type": "execute_result"
    }
   ],
   "source": [
    "np.dot(a,b.T)"
   ]
  },
  {
   "cell_type": "code",
   "execution_count": 146,
   "id": "fce83f86",
   "metadata": {},
   "outputs": [
    {
     "data": {
      "text/plain": [
       "array([[1, 2],\n",
       "       [3, 4]])"
      ]
     },
     "execution_count": 146,
     "metadata": {},
     "output_type": "execute_result"
    }
   ],
   "source": [
    "a"
   ]
  },
  {
   "cell_type": "code",
   "execution_count": 147,
   "id": "d209d893",
   "metadata": {},
   "outputs": [
    {
     "data": {
      "text/plain": [
       "array([[1, 3],\n",
       "       [2, 4]])"
      ]
     },
     "execution_count": 147,
     "metadata": {},
     "output_type": "execute_result"
    }
   ],
   "source": [
    "a.T"
   ]
  },
  {
   "cell_type": "markdown",
   "id": "929e9eed",
   "metadata": {},
   "source": [
    "## exercise"
   ]
  },
  {
   "cell_type": "code",
   "execution_count": 180,
   "id": "84d94887",
   "metadata": {},
   "outputs": [
    {
     "data": {
      "text/plain": [
       "array([[[101,  14,  74],\n",
       "        [ 66,  34,  15],\n",
       "        [181,  56,  10]],\n",
       "\n",
       "       [[173, 185, 129],\n",
       "        [191, 155,  39],\n",
       "        [209, 103,  40]],\n",
       "\n",
       "       [[159, 150, 124],\n",
       "        [ 26,  26, 247],\n",
       "        [140,  12, 121]]])"
      ]
     },
     "execution_count": 180,
     "metadata": {},
     "output_type": "execute_result"
    }
   ],
   "source": [
    "def rgb(n):\n",
    "    return np.random.randint(255, size=(3,n,n))\n",
    "\n",
    "rgb(3)"
   ]
  },
  {
   "cell_type": "code",
   "execution_count": 188,
   "id": "78f3bb02",
   "metadata": {},
   "outputs": [
    {
     "data": {
      "text/plain": [
       "array([[[0.89418595, 0.43608051, 0.17819863],\n",
       "        [0.36761943, 0.76326317, 0.99306443],\n",
       "        [0.64672378, 0.51985896, 0.06394236]],\n",
       "\n",
       "       [[0.63516968, 0.72392056, 0.77912123],\n",
       "        [0.30648207, 0.53785739, 0.26815358],\n",
       "        [0.76151558, 0.29725995, 0.7046673 ]],\n",
       "\n",
       "       [[0.3138295 , 0.88915061, 0.56459503],\n",
       "        [0.52656912, 0.18638445, 0.52183698],\n",
       "        [0.80994973, 0.25793604, 0.1588629 ]]])"
      ]
     },
     "execution_count": 188,
     "metadata": {},
     "output_type": "execute_result"
    }
   ],
   "source": [
    "def rubik(n):\n",
    "    return np.random.random((n,n,n))\n",
    "\n",
    "rubik(3)"
   ]
  },
  {
   "cell_type": "code",
   "execution_count": 193,
   "id": "b96595f6",
   "metadata": {},
   "outputs": [],
   "source": [
    "def split(records):\n",
    "    train = records[:int(len(records)*0.8)]\n",
    "    test = records[int(len(records)*0.8):]\n",
    "    return train, test"
   ]
  },
  {
   "cell_type": "code",
   "execution_count": 194,
   "id": "2dfdd780",
   "metadata": {
    "scrolled": true
   },
   "outputs": [
    {
     "data": {
      "text/plain": [
       "(array([[1, 2, 3],\n",
       "        [3, 5, 8]]),\n",
       " array([[8, 4, 9]]))"
      ]
     },
     "execution_count": 194,
     "metadata": {},
     "output_type": "execute_result"
    }
   ],
   "source": [
    "a = np.array([[1,2,3],\n",
    "             [3,5,8],\n",
    "             [8,4,9]])\n",
    "\n",
    "split(a)"
   ]
  },
  {
   "cell_type": "code",
   "execution_count": 241,
   "id": "49256da2",
   "metadata": {},
   "outputs": [],
   "source": [
    "b = np.array([[1,0],\n",
    "              [1,1])\n",
    "\n",
    "c = np.random.random(10,2)"
   ]
  },
  {
   "cell_type": "code",
   "execution_count": 258,
   "id": "8d04db1f",
   "metadata": {},
   "outputs": [],
   "source": [
    "def mse(arr_2d):\n",
    "    \n",
    "    return np.sum((arr_2d[:,0] - arr_2d[:,1])**2)/len(arr_2d)"
   ]
  },
  {
   "cell_type": "code",
   "execution_count": 259,
   "id": "e306e452",
   "metadata": {},
   "outputs": [],
   "source": [
    "def mae(arr_2d):\n",
    "    \n",
    "    return np.sum(np.abs(arr_2d[:,0] - arr_2d[:,1]))/arr_2d.shape[0]"
   ]
  },
  {
   "cell_type": "code",
   "execution_count": 255,
   "id": "d7ef58be",
   "metadata": {},
   "outputs": [
    {
     "data": {
      "text/plain": [
       "0.25"
      ]
     },
     "execution_count": 255,
     "metadata": {},
     "output_type": "execute_result"
    }
   ],
   "source": [
    "mse(b)"
   ]
  },
  {
   "cell_type": "code",
   "execution_count": 256,
   "id": "a24212fd",
   "metadata": {},
   "outputs": [
    {
     "data": {
      "text/plain": [
       "0.25"
      ]
     },
     "execution_count": 256,
     "metadata": {},
     "output_type": "execute_result"
    }
   ],
   "source": [
    "mae(b)"
   ]
  },
  {
   "cell_type": "code",
   "execution_count": 260,
   "id": "b89a74eb",
   "metadata": {},
   "outputs": [
    {
     "data": {
      "text/plain": [
       "0.13385929206339928"
      ]
     },
     "execution_count": 260,
     "metadata": {},
     "output_type": "execute_result"
    }
   ],
   "source": [
    "mse(c)"
   ]
  },
  {
   "cell_type": "code",
   "execution_count": 261,
   "id": "c28d36bf",
   "metadata": {},
   "outputs": [
    {
     "data": {
      "text/plain": [
       "0.308722735079877"
      ]
     },
     "execution_count": 261,
     "metadata": {},
     "output_type": "execute_result"
    }
   ],
   "source": [
    "mae(c)"
   ]
  },
  {
   "cell_type": "code",
   "execution_count": null,
   "id": "9eaa5cbd",
   "metadata": {},
   "outputs": [],
   "source": []
  }
 ],
 "metadata": {
  "kernelspec": {
   "display_name": "Python 3",
   "language": "python",
   "name": "python3"
  },
  "language_info": {
   "codemirror_mode": {
    "name": "ipython",
    "version": 3
   },
   "file_extension": ".py",
   "mimetype": "text/x-python",
   "name": "python",
   "nbconvert_exporter": "python",
   "pygments_lexer": "ipython3",
   "version": "3.8.8"
  },
  "toc": {
   "base_numbering": 1,
   "nav_menu": {},
   "number_sections": true,
   "sideBar": true,
   "skip_h1_title": false,
   "title_cell": "Table of Contents",
   "title_sidebar": "Contents",
   "toc_cell": false,
   "toc_position": {},
   "toc_section_display": true,
   "toc_window_display": false
  }
 },
 "nbformat": 4,
 "nbformat_minor": 5
}
